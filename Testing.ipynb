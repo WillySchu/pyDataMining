{
 "cells": [
  {
   "cell_type": "code",
   "execution_count": 22,
   "metadata": {
    "collapsed": false
   },
   "outputs": [],
   "source": [
    "import pandas as pd\n",
    "import numpy as np\n",
    "import matplotlib.pylab as plt\n",
    "%matplotlib inline\n",
    "import statsmodels.api as sm\n",
    "import math\n",
    "from datetime import date\n",
    "from time import sleep"
   ]
  },
  {
   "cell_type": "code",
   "execution_count": 23,
   "metadata": {
    "collapsed": true
   },
   "outputs": [],
   "source": [
    "end = date(2017,1,16)"
   ]
  },
  {
   "cell_type": "code",
   "execution_count": 24,
   "metadata": {
    "collapsed": true
   },
   "outputs": [],
   "source": [
    "data = pd.read_csv('pred_data2.csv', parse_dates=['ga:date'])"
   ]
  },
  {
   "cell_type": "code",
   "execution_count": 25,
   "metadata": {
    "collapsed": false
   },
   "outputs": [
    {
     "data": {
      "text/html": [
       "<div>\n",
       "<table border=\"1\" class=\"dataframe\">\n",
       "  <thead>\n",
       "    <tr style=\"text-align: right;\">\n",
       "      <th></th>\n",
       "      <th>Unnamed: 0</th>\n",
       "      <th>ga:dimension15</th>\n",
       "      <th>ga:date</th>\n",
       "      <th>ga:transactionRevenue</th>\n",
       "      <th>ga:transactions</th>\n",
       "    </tr>\n",
       "  </thead>\n",
       "  <tbody>\n",
       "    <tr>\n",
       "      <th>0</th>\n",
       "      <td>0</td>\n",
       "      <td>ATL DEN</td>\n",
       "      <td>2016-12-14</td>\n",
       "      <td>10309.68</td>\n",
       "      <td>29.0</td>\n",
       "    </tr>\n",
       "    <tr>\n",
       "      <th>1</th>\n",
       "      <td>1</td>\n",
       "      <td>ATL DEN</td>\n",
       "      <td>2016-12-15</td>\n",
       "      <td>5370.75</td>\n",
       "      <td>23.0</td>\n",
       "    </tr>\n",
       "    <tr>\n",
       "      <th>2</th>\n",
       "      <td>2</td>\n",
       "      <td>ATL DEN</td>\n",
       "      <td>2016-12-16</td>\n",
       "      <td>6252.80</td>\n",
       "      <td>31.0</td>\n",
       "    </tr>\n",
       "    <tr>\n",
       "      <th>3</th>\n",
       "      <td>3</td>\n",
       "      <td>ATL DEN</td>\n",
       "      <td>2016-12-17</td>\n",
       "      <td>7873.55</td>\n",
       "      <td>21.0</td>\n",
       "    </tr>\n",
       "    <tr>\n",
       "      <th>4</th>\n",
       "      <td>4</td>\n",
       "      <td>ATL DEN</td>\n",
       "      <td>2016-12-18</td>\n",
       "      <td>8604.36</td>\n",
       "      <td>25.0</td>\n",
       "    </tr>\n",
       "  </tbody>\n",
       "</table>\n",
       "</div>"
      ],
      "text/plain": [
       "   Unnamed: 0 ga:dimension15    ga:date  ga:transactionRevenue  \\\n",
       "0           0        ATL DEN 2016-12-14               10309.68   \n",
       "1           1        ATL DEN 2016-12-15                5370.75   \n",
       "2           2        ATL DEN 2016-12-16                6252.80   \n",
       "3           3        ATL DEN 2016-12-17                7873.55   \n",
       "4           4        ATL DEN 2016-12-18                8604.36   \n",
       "\n",
       "   ga:transactions  \n",
       "0             29.0  \n",
       "1             23.0  \n",
       "2             31.0  \n",
       "3             21.0  \n",
       "4             25.0  "
      ]
     },
     "execution_count": 25,
     "metadata": {},
     "output_type": "execute_result"
    }
   ],
   "source": [
    "data.head()"
   ]
  },
  {
   "cell_type": "code",
   "execution_count": 26,
   "metadata": {
    "collapsed": false
   },
   "outputs": [
    {
     "data": {
      "text/html": [
       "<div>\n",
       "<table border=\"1\" class=\"dataframe\">\n",
       "  <thead>\n",
       "    <tr style=\"text-align: right;\">\n",
       "      <th></th>\n",
       "      <th></th>\n",
       "      <th>ga:transactionRevenue</th>\n",
       "      <th>ga:transactions</th>\n",
       "    </tr>\n",
       "    <tr>\n",
       "      <th>ga:dimension15</th>\n",
       "      <th>ga:date</th>\n",
       "      <th></th>\n",
       "      <th></th>\n",
       "    </tr>\n",
       "  </thead>\n",
       "  <tbody>\n",
       "    <tr>\n",
       "      <th rowspan=\"5\" valign=\"top\">ATL DEN</th>\n",
       "      <th>2016-12-14</th>\n",
       "      <td>10309.68</td>\n",
       "      <td>29.0</td>\n",
       "    </tr>\n",
       "    <tr>\n",
       "      <th>2016-12-15</th>\n",
       "      <td>5370.75</td>\n",
       "      <td>23.0</td>\n",
       "    </tr>\n",
       "    <tr>\n",
       "      <th>2016-12-16</th>\n",
       "      <td>6252.80</td>\n",
       "      <td>31.0</td>\n",
       "    </tr>\n",
       "    <tr>\n",
       "      <th>2016-12-17</th>\n",
       "      <td>7873.55</td>\n",
       "      <td>21.0</td>\n",
       "    </tr>\n",
       "    <tr>\n",
       "      <th>2016-12-18</th>\n",
       "      <td>8604.36</td>\n",
       "      <td>25.0</td>\n",
       "    </tr>\n",
       "  </tbody>\n",
       "</table>\n",
       "</div>"
      ],
      "text/plain": [
       "                           ga:transactionRevenue  ga:transactions\n",
       "ga:dimension15 ga:date                                           \n",
       "ATL DEN        2016-12-14               10309.68             29.0\n",
       "               2016-12-15                5370.75             23.0\n",
       "               2016-12-16                6252.80             31.0\n",
       "               2016-12-17                7873.55             21.0\n",
       "               2016-12-18                8604.36             25.0"
      ]
     },
     "execution_count": 26,
     "metadata": {},
     "output_type": "execute_result"
    }
   ],
   "source": [
    "del data['Unnamed: 0']\n",
    "data = data.groupby(['ga:dimension15', 'ga:date']).sum()\n",
    "data.head()"
   ]
  },
  {
   "cell_type": "code",
   "execution_count": 27,
   "metadata": {
    "collapsed": false
   },
   "outputs": [],
   "source": [
    "rev = data['ga:transactionRevenue']\n",
    "trans = data['ga:transactions']"
   ]
  },
  {
   "cell_type": "code",
   "execution_count": 28,
   "metadata": {
    "collapsed": false
   },
   "outputs": [
    {
     "data": {
      "text/plain": [
       "[<matplotlib.lines.Line2D at 0x7fe9e3446350>]"
      ]
     },
     "execution_count": 28,
     "metadata": {},
     "output_type": "execute_result"
    },
    {
     "data": {
      "image/png": "[encoded data removed]",
      "text/plain": [
       "<matplotlib.figure.Figure at 0x7fe9e358a110>"
      ]
     },
     "metadata": {},
     "output_type": "display_data"
    }
   ],
   "source": [
    "plt.plot(trans['ATL DEN'][:end])\n",
    "plt.plot(trans['ATL DEN'][end:])"
   ]
  },
  {
   "cell_type": "code",
   "execution_count": 19,
   "metadata": {
    "collapsed": true
   },
   "outputs": [],
   "source": [
    "i = 0\n",
    "dedup = {}"
   ]
  },
  {
   "cell_type": "code",
   "execution_count": 21,
   "metadata": {
    "collapsed": false
   },
   "outputs": [
    {
     "name": "stdout",
     "output_type": "stream",
     "text": [
      "ATL LAS\n",
      "[ 19.          19.          23.          12.          18.          27.          30.\n",
      "  26.          18.          14.          12.          15.          16.          34.\n",
      "  26.          22.          27.          26.          15.          27.          37.\n",
      "  39.          38.          44.          29.          32.          37.          42.\n",
      "  34.          47.          54.          28.          24.          44.\n",
      "  47.11141473  37.26594661  42.87551888  48.43713411  35.27163306\n",
      "  33.74104302  43.49357776]\n",
      "2\n"
     ]
    },
    {
     "data": {
      "image/png": "[encoded data removed]",
      "text/plain": [
       "<matplotlib.figure.Figure at 0x7fe9e57a1610>"
      ]
     },
     "metadata": {},
     "output_type": "display_data"
    }
   ],
   "source": [
    "# while True:\n",
    "j = 0\n",
    "for idx, vl in rev.iteritems():\n",
    "    index = idx[0]\n",
    "    if j < i:\n",
    "        j += 1\n",
    "        continue\n",
    "    try:\n",
    "        if dedup[index] is True:\n",
    "            continue\n",
    "    except:\n",
    "        dedup[index] = True\n",
    "        \n",
    "    print index\n",
    "    plt.plot(trans[index][:end])\n",
    "    plt.plot(trans[index][end:], color='red')\n",
    "    print trans[index].values    \n",
    "    if j >= i:\n",
    "        i += 1\n",
    "        print i\n",
    "        break\n",
    "        \n",
    "        \n",
    "        \n",
    "        "
   ]
  },
  {
   "cell_type": "code",
   "execution_count": 11,
   "metadata": {
    "collapsed": false
   },
   "outputs": [
    {
     "data": {
      "text/plain": [
       "ga:date\n",
       "2016-12-14    24.000000\n",
       "2016-12-15    15.000000\n",
       "2016-12-16    23.000000\n",
       "2016-12-17    10.000000\n",
       "2016-12-18    13.000000\n",
       "2016-12-19    14.000000\n",
       "2016-12-20    15.000000\n",
       "2016-12-21    19.000000\n",
       "2016-12-22    16.000000\n",
       "2016-12-23    12.000000\n",
       "2016-12-24     9.000000\n",
       "2016-12-25     8.000000\n",
       "2016-12-26    15.000000\n",
       "2016-12-27    21.000000\n",
       "2016-12-28    23.000000\n",
       "2016-12-29    29.000000\n",
       "2016-12-30    12.000000\n",
       "2016-12-31    22.000000\n",
       "2017-01-01    16.000000\n",
       "2017-01-02    27.000000\n",
       "2017-01-03    45.000000\n",
       "2017-01-04    44.000000\n",
       "2017-01-05    29.000000\n",
       "2017-01-06    25.000000\n",
       "2017-01-07    22.000000\n",
       "2017-01-08    21.000000\n",
       "2017-01-09    28.000000\n",
       "2017-01-10    28.000000\n",
       "2017-01-11    22.000000\n",
       "2017-01-12    29.000000\n",
       "2017-01-13    20.000000\n",
       "2017-01-14    11.000000\n",
       "2017-01-15    14.000000\n",
       "2017-01-16    31.000000\n",
       "2017-01-17    27.461190\n",
       "2017-01-18    23.765283\n",
       "2017-01-19    24.581948\n",
       "2017-01-20    21.405956\n",
       "2017-01-21    18.510675\n",
       "2017-01-22    19.139684\n",
       "2017-01-23    23.784903\n",
       "Name: ga:transactions, dtype: float64"
      ]
     },
     "execution_count": 11,
     "metadata": {},
     "output_type": "execute_result"
    }
   ],
   "source": [
    "trans[\"ATL MCO\"]"
   ]
  },
  {
   "cell_type": "code",
   "execution_count": 19,
   "metadata": {
    "collapsed": true
   },
   "outputs": [],
   "source": [
    "data.to_csv(\"exported-csv-data\")"
   ]
  },
  {
   "cell_type": "code",
   "execution_count": 20,
   "metadata": {
    "collapsed": false
   },
   "outputs": [
    {
     "name": "stdout",
     "output_type": "stream",
     "text": [
      "2017-01-16\n"
     ]
    }
   ],
   "source": [
    "print(end)"
   ]
  },
  {
   "cell_type": "code",
   "execution_count": null,
   "metadata": {
    "collapsed": true
   },
   "outputs": [],
   "source": []
  }
 ],
 "metadata": {
  "kernelspec": {
   "display_name": "Python 2",
   "language": "python",
   "name": "python2"
  },
  "language_info": {
   "codemirror_mode": {
    "name": "ipython",
    "version": 2
   },
   "file_extension": ".py",
   "mimetype": "text/x-python",
   "name": "python",
   "nbconvert_exporter": "python",
   "pygments_lexer": "ipython2",
   "version": "2.7.12"
  }
 },
 "nbformat": 4,
 "nbformat_minor": 2
}
