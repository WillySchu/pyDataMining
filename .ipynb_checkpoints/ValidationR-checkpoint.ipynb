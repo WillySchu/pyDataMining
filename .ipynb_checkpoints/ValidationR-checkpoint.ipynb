{
 "cells": [
  {
   "cell_type": "code",
   "execution_count": 13,
   "metadata": {
    "collapsed": false
   },
   "outputs": [
    {
     "name": "stderr",
     "output_type": "stream",
     "text": [
      "\n",
      "Attaching package: ‘dplyr’\n",
      "\n",
      "The following objects are masked from ‘package:stats’:\n",
      "\n",
      "    filter, lag\n",
      "\n",
      "The following objects are masked from ‘package:base’:\n",
      "\n",
      "    intersect, setdiff, setequal, union\n",
      "\n"
     ]
    }
   ],
   "source": [
    "library(forecast)\n",
    "library(dplyr)"
   ]
  },
  {
   "cell_type": "code",
   "execution_count": 14,
   "metadata": {
    "collapsed": false
   },
   "outputs": [
    {
     "data": {
      "text/html": [
       "<table>\n",
       "<thead><tr><th scope=col>ga.source</th><th scope=col>ga.date</th><th scope=col>ga.sessions</th></tr></thead>\n",
       "<tbody>\n",
       "\t<tr><td>(direct)</td><td>20170103</td><td>260192  </td></tr>\n",
       "\t<tr><td>(direct)</td><td>20170104</td><td>258984  </td></tr>\n",
       "\t<tr><td>(direct)</td><td>20170117</td><td>248585  </td></tr>\n",
       "\t<tr><td>(direct)</td><td>20170201</td><td>248337  </td></tr>\n",
       "\t<tr><td>(direct)</td><td>20170110</td><td>244107  </td></tr>\n",
       "\t<tr><td>(direct)</td><td>20170207</td><td>241304  </td></tr>\n",
       "</tbody>\n",
       "</table>\n"
      ],
      "text/latex": [
       "\\begin{tabular}{r|lll}\n",
       " ga.source & ga.date & ga.sessions\\\\\n",
       "\\hline\n",
       "\t (direct) & 20170103 & 260192  \\\\\n",
       "\t (direct) & 20170104 & 258984  \\\\\n",
       "\t (direct) & 20170117 & 248585  \\\\\n",
       "\t (direct) & 20170201 & 248337  \\\\\n",
       "\t (direct) & 20170110 & 244107  \\\\\n",
       "\t (direct) & 20170207 & 241304  \\\\\n",
       "\\end{tabular}\n"
      ],
      "text/markdown": [
       "\n",
       "ga.source | ga.date | ga.sessions | \n",
       "|---|---|---|---|---|---|\n",
       "| (direct) | 20170103 | 260192   | \n",
       "| (direct) | 20170104 | 258984   | \n",
       "| (direct) | 20170117 | 248585   | \n",
       "| (direct) | 20170201 | 248337   | \n",
       "| (direct) | 20170110 | 244107   | \n",
       "| (direct) | 20170207 | 241304   | \n",
       "\n",
       "\n"
      ],
      "text/plain": [
       "  ga.source ga.date  ga.sessions\n",
       "1 (direct)  20170103 260192     \n",
       "2 (direct)  20170104 258984     \n",
       "3 (direct)  20170117 248585     \n",
       "4 (direct)  20170201 248337     \n",
       "5 (direct)  20170110 244107     \n",
       "6 (direct)  20170207 241304     "
      ]
     },
     "metadata": {},
     "output_type": "display_data"
    }
   ],
   "source": [
    "data = read.csv('sessionsbysource.tsv', sep='\\t')\n",
    "head(data)"
   ]
  },
  {
   "cell_type": "code",
   "execution_count": 17,
   "metadata": {
    "collapsed": false
   },
   "outputs": [
    {
     "ename": "ERROR",
     "evalue": "Error in `[.data.frame`(data, data$ga.source == \"(direct)\"): undefined columns selected\n",
     "output_type": "error",
     "traceback": [
      "Error in `[.data.frame`(data, data$ga.source == \"(direct)\"): undefined columns selected\nTraceback:\n",
      "1. data[data$ga.source == \"(direct)\"]",
      "2. `[.data.frame`(data, data$ga.source == \"(direct)\")",
      "3. stop(\"undefined columns selected\")"
     ]
    }
   ],
   "source": [
    "direct = data[data$ga.source == '(direct)']"
   ]
  },
  {
   "cell_type": "code",
   "execution_count": null,
   "metadata": {
    "collapsed": true
   },
   "outputs": [],
   "source": []
  }
 ],
 "metadata": {
  "kernelspec": {
   "display_name": "R",
   "language": "R",
   "name": "ir"
  },
  "language_info": {
   "codemirror_mode": "r",
   "file_extension": ".r",
   "mimetype": "text/x-r-source",
   "name": "R",
   "pygments_lexer": "r",
   "version": "3.2.3"
  }
 },
 "nbformat": 4,
 "nbformat_minor": 2
}
