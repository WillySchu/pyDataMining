{
 "cells": [
  {
   "cell_type": "code",
   "execution_count": 43,
   "metadata": {
    "collapsed": true
   },
   "outputs": [],
   "source": [
    "import pandas as pd\n",
    "import numpy as np\n",
    "import matplotlib.pylab as plt\n",
    "%matplotlib inline\n",
    "import statsmodels.api as sm\n",
    "from scipy.optimize import brute\n",
    "import math"
   ]
  },
  {
   "cell_type": "code",
   "execution_count": 44,
   "metadata": {
    "collapsed": false
   },
   "outputs": [
    {
     "data": {
      "text/plain": [
       "<module 'math' (built-in)>"
      ]
     },
     "execution_count": 44,
     "metadata": {},
     "output_type": "execute_result"
    }
   ],
   "source": [
    "# h = open('sessionsbysource.tsv', 'r')\n",
    "# f = h.read()\n",
    "# f = ''.join(f.split('\\x00'))\n",
    "# w = open('sessionsbysource.tsv', 'w')\n",
    "# w.write(f)\n",
    "# w.close()"
   ]
  },
  {
   "cell_type": "code",
   "execution_count": 118,
   "metadata": {
    "collapsed": true
   },
   "outputs": [],
   "source": [
    "data = pd.read_csv('sessionsbysource.tsv', sep='\\t', parse_dates=[1])"
   ]
  },
  {
   "cell_type": "code",
   "execution_count": 119,
   "metadata": {
    "collapsed": false
   },
   "outputs": [
    {
     "data": {
      "text/plain": [
       "['dogpile.com',\n",
       " 'duckduckgo.com',\n",
       " 'trvl.deals',\n",
       " 'bdcid=bookingbuddy',\n",
       " '10467--284840886.ame-cte.ampxchange.com',\n",
       " 'goseek.com',\n",
       " 'searchthis.com',\n",
       " 'tripadvisor.com',\n",
       " '10567.ampxchange.com',\n",
       " 'yandex',\n",
       " 'mf.smartfares.com',\n",
       " 'yandex.ru',\n",
       " 'trc.taboola.com',\n",
       " 'cas.ny.us.criteo.com',\n",
       " 'mg.mail.yahoo.com',\n",
       " 'jetupfront.com',\n",
       " 'secretflying.com',\n",
       " 'vandrouki.ru',\n",
       " 'cse.google.com',\n",
       " 'displaycid=facebook',\n",
       " 'mrrebates.com',\n",
       " 'webmailb.juno.com',\n",
       " 'travelfree.info',\n",
       " 'outlook.live.com',\n",
       " 'webshop-reviews.com',\n",
       " 'golastminute.com',\n",
       " '(not set)',\n",
       " '10888--284840886.ame-cte.ampxchange.com',\n",
       " 'baidu',\n",
       " 'bs.serving-sys.com',\n",
       " 'so.com',\n",
       " 'expedia.com',\n",
       " 'coupons.com',\n",
       " '(direct)',\n",
       " 'analytics.trustyou.com',\n",
       " '100500miles.ru',\n",
       " 'travelocity.ca',\n",
       " 'promotot.com',\n",
       " 'facebook',\n",
       " 'a.intentmedia.net',\n",
       " 'apideeplink.com',\n",
       " 'rtbtracking.com',\n",
       " 'vandrouki.by',\n",
       " 'savings.com',\n",
       " 'cat.ny.us.criteo.com',\n",
       " 'orbitz.com',\n",
       " '11348-106437.ampxchange.com',\n",
       " 'eureka.expedia.com',\n",
       " 'centurylink.net',\n",
       " 'classroom.google.com',\n",
       " 'email=lc-etm',\n",
       " 'rstyle.me',\n",
       " '10988-5365914.ampxchange.com',\n",
       " 'amwaypartnerstores.com',\n",
       " '10200--284840886.ame-cte.ampxchange.com',\n",
       " 'a1.cdn.intentmedia.net',\n",
       " 'staydrivefly.com',\n",
       " '10915--284840886.ame-cte.ampxchange.com',\n",
       " 'prod.uhrs.playmsn.com',\n",
       " 'seatguru.com',\n",
       " 'bbs.3798.com',\n",
       " 'nbcnews.com',\n",
       " 'bankrate.com',\n",
       " 'google',\n",
       " 'shop.com',\n",
       " '10394--284840886.sf-cte.ampxchange.com',\n",
       " 'familyvacationcritic.com',\n",
       " 'cas.sv.us.criteo.com',\n",
       " 'tripadvisor.ru',\n",
       " 'webmail.earthlink.net',\n",
       " 'search.xfinity.com',\n",
       " 'fly.com',\n",
       " '2760715',\n",
       " 'searchprivacy.co',\n",
       " 'bt.smartfares.com',\n",
       " '10494-5914566.ampxchange.com',\n",
       " 'api.trivago.com',\n",
       " 'hotsheet.com',\n",
       " 'tripadvisor.co.uk',\n",
       " 'ecosia.org',\n",
       " 'edealsetc.com',\n",
       " 'displaycid=google',\n",
       " 'roadtrippers.com',\n",
       " 'bdcid=smartertravel',\n",
       " 'travelocity-s.neolane.net',\n",
       " 'mydealz.de',\n",
       " 'm.vk.com',\n",
       " 'compare.zenhotels.com',\n",
       " 'a.cdn.intentmedia.net',\n",
       " 'elvxing.net',\n",
       " 'informationvine.com',\n",
       " 'urlaubspiraten.de',\n",
       " 'tpc.googlesyndication.com',\n",
       " 'criteo',\n",
       " 'googleads.g.doubleclick.net',\n",
       " 'l.facebook.com',\n",
       " 'escapehouston.com',\n",
       " 'going.com',\n",
       " 'm.memolink.com',\n",
       " 'swagbucks.com',\n",
       " 'homeaway.com',\n",
       " 'us.wow.com',\n",
       " 'independent.co.uk',\n",
       " 'bookingbuddy.com',\n",
       " 'hotelscombined.com',\n",
       " 'bdcid=intent-media',\n",
       " 'search.tb.ask.com',\n",
       " 'n377807.2161504expediatravelocit',\n",
       " 'oyster.ca',\n",
       " 'tripadvisor.ca',\n",
       " 'tripadvisor.es',\n",
       " 'wantacode.com',\n",
       " 'ww2.cheapflights.com',\n",
       " 'vacationgetawayproject.weebly.com',\n",
       " 'saarthakgroup.com',\n",
       " '10720--284840886.ame-cte.ampxchange.com',\n",
       " 'freep.com',\n",
       " 'flyhagerstown.com',\n",
       " 'flights.agoda.com',\n",
       " 'pinterest.com',\n",
       " 'imasdk.googleapis.com',\n",
       " 'ca.kayak.com',\n",
       " 'redirect.protectedbrand.com',\n",
       " 'vandrouki.com.ua',\n",
       " 'go.redirectingat.com',\n",
       " 'voyager.expedia.com',\n",
       " 'cafe.naver.com',\n",
       " 'tripadvisor.com.ph',\n",
       " 'openx.wayfareinteractive.com',\n",
       " '10300-6511012-101.ampxchange.com',\n",
       " 'meta.goseek.com',\n",
       " 'zoomcake.com',\n",
       " 'volunteerforever.com',\n",
       " 'msn.com',\n",
       " '11722-104-13795.ampxchange.com',\n",
       " 'standard.co.uk',\n",
       " 'cheapflights.com',\n",
       " 'shermanstravel.com',\n",
       " 'ebates.com',\n",
       " 'mybignbusiness.com',\n",
       " 'thesmartsearch.net',\n",
       " 'booking.kayak.com',\n",
       " 'memolink.com',\n",
       " 'tripadvisor.com.au',\n",
       " 'ask',\n",
       " 'docs.google.com',\n",
       " 'cs.cruise.com',\n",
       " 'm.blog.naver.com',\n",
       " 'groupon.com',\n",
       " 'offers.com',\n",
       " 'reviews.com',\n",
       " 'rushflights.com',\n",
       " 'mail.google.com',\n",
       " 's0.2mdn.net',\n",
       " 'hare.tripadvisor.com',\n",
       " 'mappcid=facebook',\n",
       " 'dealmoon.com',\n",
       " 'perksatwork.com',\n",
       " '11622--284840886.ame-cte.ampxchange.com',\n",
       " 'agoooda.com',\n",
       " 'compare.ostrovok.ru',\n",
       " 'msn',\n",
       " 'lm.facebook.com',\n",
       " 'charlottedouglasintlairport.com',\n",
       " 'app.yieldify.com',\n",
       " 'salecoupons.co',\n",
       " 'cybermonday.com',\n",
       " 'tripping.com',\n",
       " 'toptenreviews.com',\n",
       " 'rentalcodes.com',\n",
       " 'farecompare.mx',\n",
       " 'mfrontpage.pch.com',\n",
       " 'oyster.com',\n",
       " 'myprivatesearch.com',\n",
       " 'web.mail.comcast.net',\n",
       " 'travelocityvacations-staging-us.myersmediagroup.com',\n",
       " 'save.cheapflightnow.com',\n",
       " 'brand',\n",
       " 'compare.amoma.com',\n",
       " 'yahoo',\n",
       " 'luxurylink.com',\n",
       " 'happyfly.cz',\n",
       " 'olacid=infectious',\n",
       " 'fly4free.pl',\n",
       " 'httpurl.blogspot.com',\n",
       " 'airfarewatchdog.com',\n",
       " 'tripadvisor.co.nz',\n",
       " 'httpurl.blogspot.ru',\n",
       " 'wakacyjnipiraci.pl',\n",
       " 'go.sealthatleak.com',\n",
       " 'cctoken.expedia.com',\n",
       " 'moneysavingexpert.com',\n",
       " 'kayak.co.uk',\n",
       " 'm.facebook.com',\n",
       " 'sg.shop.com',\n",
       " 'dp.g.doubleclick.net',\n",
       " 'webmaila.juno.com',\n",
       " 'ad.doubleclick.net',\n",
       " 'mapquest.com',\n",
       " 'trivago.com',\n",
       " 'youtube.com',\n",
       " 'search.lowfares.com',\n",
       " 'email=pt-etm',\n",
       " 'blog.naver.com',\n",
       " 'myglenview.net',\n",
       " 'travelocity',\n",
       " 'dealnews.com',\n",
       " 'secure.opinionlab.com',\n",
       " 'displaycid=hulu',\n",
       " 'vk.com',\n",
       " 'bing',\n",
       " 'tripadvisor.com.ar',\n",
       " 't.co',\n",
       " 'tripadvisor.in',\n",
       " 'whiteplainsairport.com',\n",
       " 'email=travelocity-us',\n",
       " 'travel-stan.com',\n",
       " 'cn.dealmoon.com',\n",
       " 'smartfares.com',\n",
       " 'discount-airline-ticket.com',\n",
       " 'r.duckduckgo.com',\n",
       " 'travelpirates.kayak.com',\n",
       " 'sailthru',\n",
       " 'rates.shermanstravel.com',\n",
       " 'hip2save.com',\n",
       " 'mousesavers.com',\n",
       " 'farecompare.com',\n",
       " 'tripadvisor.com.mx',\n",
       " '11015-514438.ampxchange.com',\n",
       " 'adcenter',\n",
       " 'flyagain.la',\n",
       " 'travelocity-uscid=srcomp',\n",
       " 'worldstory12.tistory.com',\n",
       " 'webmailb.netzero.net',\n",
       " '11248--284840886.ame-cte.ampxchange.com',\n",
       " 'bing.com',\n",
       " 'hipmunk.com',\n",
       " 'dfa',\n",
       " 'retailmenot.com',\n",
       " 'urlaubsguru.de',\n",
       " 'syrairport.org',\n",
       " 'api-sfo.trivago.com',\n",
       " 'tool.couponcabin.com',\n",
       " 'escapethecoldinpuertorico.com',\n",
       " 'sserp.ablazeerp.com',\n",
       " 'tripadvisor.fr',\n",
       " 'travelbook.lt',\n",
       " 'securepubads.g.doubleclick.net',\n",
       " 'kayak.yapta.com',\n",
       " 'sharetrips.com',\n",
       " 'facebook.com',\n",
       " 'cr.cheapflightnow.com',\n",
       " 'us.search.yahoo.com',\n",
       " 'socialcid=facebook',\n",
       " '10669--284840886.ame-cte.ampxchange.com',\n",
       " 'travel.mediaalpha.com',\n",
       " 'x.wayfareinteractive.com',\n",
       " 'navigation.nsgnav.com',\n",
       " 'vezdelet.by',\n",
       " 'compare.hotellook.ru',\n",
       " 'searchlock.com',\n",
       " 'aol',\n",
       " 'search.pch.com',\n",
       " 'clicktripz.com',\n",
       " 'fly4free.com',\n",
       " 'jusd.haikulearning.com',\n",
       " 'cruisecritic.com',\n",
       " 'one-tab.com',\n",
       " 'x-games.tistory.com',\n",
       " 'frontpage.pch.com',\n",
       " 'sfo.trivago.com',\n",
       " 'a2.cdn.intentmedia.net',\n",
       " 'kayak.com',\n",
       " 'tripadvisor.com.br',\n",
       " 'explorius.net',\n",
       " 'b.runwaynine.com',\n",
       " 'cruise.com',\n",
       " '10915--284840886.sf-cte.ampxchange.com',\n",
       " '11622--284840886.sf-cte.ampxchange.com',\n",
       " 'adblow.tistory.com',\n",
       " 'displaycid=criteo',\n",
       " 'douban.com',\n",
       " 'ads.wayfareinteractive.com',\n",
       " 'google.com',\n",
       " 'redirect.datahc.com',\n",
       " 'pigusbilietai.lt',\n",
       " 'im.smartfares.com',\n",
       " 'travelocity.optionsaway.com',\n",
       " 'shop.upromise.com',\n",
       " 'naver',\n",
       " 'laprensalibre.cr',\n",
       " 'travelocity.co.uk',\n",
       " 'onetime.com',\n",
       " 'allvacationsinclusive.com']"
      ]
     },
     "execution_count": 119,
     "metadata": {},
     "output_type": "execute_result"
    }
   ],
   "source": [
    "dims = list(set(dims))\n",
    "dims"
   ]
  },
  {
   "cell_type": "code",
   "execution_count": 120,
   "metadata": {
    "collapsed": false,
    "scrolled": false
   },
   "outputs": [],
   "source": [
    "data = data.groupby(['ga:source', 'ga:date']).sum()"
   ]
  },
  {
   "cell_type": "code",
   "execution_count": 121,
   "metadata": {
    "collapsed": false
   },
   "outputs": [],
   "source": [
    "sess = data['ga:sessions']"
   ]
  },
  {
   "cell_type": "code",
   "execution_count": 163,
   "metadata": {
    "collapsed": false
   },
   "outputs": [],
   "source": [
    "# data['ga:sessions']\n",
    "for dim in dims:\n",
    "    l = len(sess[dim])\n",
    "    if l < 82:\n",
    "        continue\n",
    "    vl = l // 5\n",
    "    \n",
    "    d = dim\n",
    "    \n",
    "    start = sess[dim][-vl:].index[0].strftime('%Y-%m-%d')\n",
    "    \n",
    "    print start\n",
    "    \n",
    "    model = auto_arima(sess[dim][:l-vl])\n",
    "    pred = model.get_prediction(start=start, end=l-1)\n",
    "    print pred.predicted_mean\n",
    "    break"
   ]
  },
  {
   "cell_type": "code",
   "execution_count": 167,
   "metadata": {
    "collapsed": false
   },
   "outputs": [
    {
     "ename": "ValueError",
     "evalue": "Start must be in dates. Got 2017-02-05 | 2017-02-05 00:00:00",
     "output_type": "error",
     "traceback": [
      "\u001b[0;31m---------------------------------------------------------------------------\u001b[0m",
      "\u001b[0;31mValueError\u001b[0m                                Traceback (most recent call last)",
      "\u001b[0;32m<ipython-input-167-54e072861c62>\u001b[0m in \u001b[0;36m<module>\u001b[0;34m()\u001b[0m\n\u001b[0;32m----> 1\u001b[0;31m \u001b[0mmodel\u001b[0m\u001b[0;34m.\u001b[0m\u001b[0mget_prediction\u001b[0m\u001b[0;34m(\u001b[0m\u001b[0mstart\u001b[0m\u001b[0;34m=\u001b[0m\u001b[0;34m'2017-02-05'\u001b[0m\u001b[0;34m,\u001b[0m \u001b[0mend\u001b[0m\u001b[0;34m=\u001b[0m\u001b[0ml\u001b[0m\u001b[0;34m-\u001b[0m\u001b[0;36m1\u001b[0m\u001b[0;34m,\u001b[0m \u001b[0mdynamic\u001b[0m\u001b[0;34m=\u001b[0m\u001b[0mTrue\u001b[0m\u001b[0;34m)\u001b[0m\u001b[0;34m\u001b[0m\u001b[0m\n\u001b[0m",
      "\u001b[0;32m/usr/local/lib/python2.7/dist-packages/statsmodels/tsa/statespace/mlemodel.pyc\u001b[0m in \u001b[0;36mget_prediction\u001b[0;34m(self, start, end, dynamic, **kwargs)\u001b[0m\n\u001b[1;32m   2257\u001b[0m \u001b[0;34m\u001b[0m\u001b[0m\n\u001b[1;32m   2258\u001b[0m         \u001b[0;31m# Handle start and end (e.g. dates)\u001b[0m\u001b[0;34m\u001b[0m\u001b[0;34m\u001b[0m\u001b[0m\n\u001b[0;32m-> 2259\u001b[0;31m         \u001b[0mstart\u001b[0m \u001b[0;34m=\u001b[0m \u001b[0mself\u001b[0m\u001b[0;34m.\u001b[0m\u001b[0mmodel\u001b[0m\u001b[0;34m.\u001b[0m\u001b[0m_get_predict_start\u001b[0m\u001b[0;34m(\u001b[0m\u001b[0mstart\u001b[0m\u001b[0;34m)\u001b[0m\u001b[0;34m\u001b[0m\u001b[0m\n\u001b[0m\u001b[1;32m   2260\u001b[0m         \u001b[0mend\u001b[0m\u001b[0;34m,\u001b[0m \u001b[0mout_of_sample\u001b[0m \u001b[0;34m=\u001b[0m \u001b[0mself\u001b[0m\u001b[0;34m.\u001b[0m\u001b[0mmodel\u001b[0m\u001b[0;34m.\u001b[0m\u001b[0m_get_predict_end\u001b[0m\u001b[0;34m(\u001b[0m\u001b[0mend\u001b[0m\u001b[0;34m)\u001b[0m\u001b[0;34m\u001b[0m\u001b[0m\n\u001b[1;32m   2261\u001b[0m \u001b[0;34m\u001b[0m\u001b[0m\n",
      "\u001b[0;32m/usr/local/lib/python2.7/dist-packages/statsmodels/tsa/base/tsa_model.pyc\u001b[0m in \u001b[0;36m_get_predict_start\u001b[0;34m(self, start)\u001b[0m\n\u001b[1;32m    130\u001b[0m             \u001b[0;32mexcept\u001b[0m \u001b[0mKeyError\u001b[0m\u001b[0;34m:\u001b[0m\u001b[0;34m\u001b[0m\u001b[0m\n\u001b[1;32m    131\u001b[0m                 raise ValueError(\"Start must be in dates. Got %s | %s\" %\n\u001b[0;32m--> 132\u001b[0;31m                         (str(start), str(dtstart)))\n\u001b[0m\u001b[1;32m    133\u001b[0m \u001b[0;34m\u001b[0m\u001b[0m\n\u001b[1;32m    134\u001b[0m         \u001b[0mself\u001b[0m\u001b[0;34m.\u001b[0m\u001b[0m_set_predict_start_date\u001b[0m\u001b[0;34m(\u001b[0m\u001b[0mstart\u001b[0m\u001b[0;34m)\u001b[0m\u001b[0;34m\u001b[0m\u001b[0m\n",
      "\u001b[0;31mValueError\u001b[0m: Start must be in dates. Got 2017-02-05 | 2017-02-05 00:00:00"
     ]
    }
   ],
   "source": [
    "model.get_prediction(start='2017-02-05', end=l-1, dynamic=True)"
   ]
  },
  {
   "cell_type": "code",
   "execution_count": 166,
   "metadata": {
    "collapsed": false
   },
   "outputs": [
    {
     "data": {
      "text/plain": [
       "333"
      ]
     },
     "execution_count": 166,
     "metadata": {},
     "output_type": "execute_result"
    }
   ],
   "source": [
    "sess[d]['2017-02-05']"
   ]
  },
  {
   "cell_type": "code",
   "execution_count": 86,
   "metadata": {
    "collapsed": false
   },
   "outputs": [
    {
     "data": {
      "text/plain": [
       "82"
      ]
     },
     "execution_count": 86,
     "metadata": {},
     "output_type": "execute_result"
    }
   ],
   "source": [
    "direct = data.ix['(direct)']['ga:sessions']\n",
    "len(direct)"
   ]
  },
  {
   "cell_type": "code",
   "execution_count": 147,
   "metadata": {
    "collapsed": false
   },
   "outputs": [
    {
     "data": {
      "text/plain": [
       "'2017-02-05'"
      ]
     },
     "execution_count": 147,
     "metadata": {},
     "output_type": "execute_result"
    }
   ],
   "source": [
    "t = direct[-16:].index[0].strftime('%Y-%m-%d')\n",
    "t"
   ]
  },
  {
   "cell_type": "code",
   "execution_count": 50,
   "metadata": {
    "collapsed": false
   },
   "outputs": [
    {
     "data": {
      "text/plain": [
       "[<matplotlib.lines.Line2D at 0x7fdea6078990>]"
      ]
     },
     "execution_count": 50,
     "metadata": {},
     "output_type": "execute_result"
    },
    {
     "data": {
      "image/png": "[encoded data removed]",
      "text/plain": [
       "<matplotlib.figure.Figure at 0x7fdeb5ecf350>"
      ]
     },
     "metadata": {},
     "output_type": "display_data"
    }
   ],
   "source": [
    "plt.plot(direct)"
   ]
  },
  {
   "cell_type": "code",
   "execution_count": 45,
   "metadata": {
    "collapsed": true
   },
   "outputs": [],
   "source": [
    "def test_arima(orders, x):\n",
    "    order = orders[:3]\n",
    "    seasonal_order = orders[3:]\n",
    "    seasonal_order = np.insert(seasonal_order, 3, 7)\n",
    "    try:\n",
    "        fit = sm.tsa.statespace.SARIMAX(x, trend='n', order=order, seasonal_order=seasonal_order).fit()\n",
    "        if math.isnan(rmse(fit.resid)):\n",
    "            return float('inf')\n",
    "        return rmse(fit.resid)\n",
    "    except Exception as err:\n",
    "        print err\n",
    "        return float('inf')\n",
    "        \n",
    "def rmse(resid):\n",
    "    rmse = 0\n",
    "    for r in resid:\n",
    "        rmse += math.sqrt(r**2)\n",
    "        \n",
    "    return rmse\n",
    "\n",
    "def auto_arima(x):\n",
    "        grid = (slice(0, 3, 1), slice(0, 3, 1), slice(0, 3, 1), slice(0, 3, 1), slice(0, 3, 1), slice(0, 3, 1))\n",
    "        res = brute(test_arima, grid, args=(x,), finish=None)\n",
    "        if any(i != 0 for i in res):\n",
    "            # slice up orders\n",
    "            order = res[:3].astype(int)\n",
    "            seasonal_order = res[3:].astype(int)\n",
    "            # hardcode insert seven period seasonality\n",
    "            # this will need to become more dynamic later when we deal with\n",
    "            # multi day long periods\n",
    "            seasonal_order = np.insert(seasonal_order, 3, 7)\n",
    "            return sm.tsa.statespace.SARIMAX(x.astype(float), trend='n', order=order, seasonal_order=seasonal_order).fit()"
   ]
  },
  {
   "cell_type": "code",
   "execution_count": 89,
   "metadata": {
    "collapsed": false,
    "scrolled": true
   },
   "outputs": [
    {
     "name": "stdout",
     "output_type": "stream",
     "text": [
      "Number of states in statespace model must be a positive number.\n",
      "Number of states in statespace model must be a positive number.\n",
      "non-invertible starting seasonal moving average parameters found with `enforce_invertibility` set to True.\n",
      "non-invertible starting seasonal moving average parameters found with `enforce_invertibility` set to True.\n",
      "could not broadcast input array from shape (0,0) into shape (7,7)\n",
      "non-invertible starting seasonal moving average parameters found with `enforce_invertibility` set to True.\n",
      "could not broadcast input array from shape (0,0) into shape (14,14)\n",
      "non-invertible starting seasonal moving average parameters found with `enforce_invertibility` set to True.\n",
      "Non-stationary starting autoregressive parameters found with `enforce_stationarity` set to True.\n",
      "Non-stationary starting autoregressive parameters found with `enforce_stationarity` set to True.\n",
      "Singular matrix\n",
      "non-invertible starting seasonal moving average parameters found with `enforce_invertibility` set to True.\n",
      "Non-stationary starting autoregressive parameters found with `enforce_stationarity` set to True.\n",
      "Non-stationary starting autoregressive parameters found with `enforce_stationarity` set to True.\n",
      "Non-stationary starting autoregressive parameters found with `enforce_stationarity` set to True.\n",
      "non-invertible starting seasonal moving average parameters found with `enforce_invertibility` set to True.\n",
      "Non-stationary starting autoregressive parameters found with `enforce_stationarity` set to True.\n",
      "non-invertible starting MA parameters found with `enforce_invertibility` set to True.\n",
      "non-invertible starting MA parameters found with `enforce_invertibility` set to True.\n",
      "non-invertible starting MA parameters found with `enforce_invertibility` set to True.\n",
      "non-invertible starting MA parameters found with `enforce_invertibility` set to True.\n",
      "non-invertible starting MA parameters found with `enforce_invertibility` set to True.\n",
      "non-invertible starting MA parameters found with `enforce_invertibility` set to True.\n",
      "non-invertible starting seasonal moving average parameters found with `enforce_invertibility` set to True.\n",
      "non-invertible starting MA parameters found with `enforce_invertibility` set to True.\n",
      "non-invertible starting MA parameters found with `enforce_invertibility` set to True.\n",
      "non-invertible starting MA parameters found with `enforce_invertibility` set to True.\n",
      "non-invertible starting MA parameters found with `enforce_invertibility` set to True.\n",
      "non-invertible starting MA parameters found with `enforce_invertibility` set to True.\n",
      "non-invertible starting MA parameters found with `enforce_invertibility` set to True.\n",
      "Non-stationary starting autoregressive parameters found with `enforce_stationarity` set to True.\n",
      "non-invertible starting MA parameters found with `enforce_invertibility` set to True.\n",
      "non-invertible starting MA parameters found with `enforce_invertibility` set to True.\n",
      "non-invertible starting MA parameters found with `enforce_invertibility` set to True.\n",
      "non-invertible starting MA parameters found with `enforce_invertibility` set to True.\n",
      "non-invertible starting MA parameters found with `enforce_invertibility` set to True.\n",
      "non-invertible starting MA parameters found with `enforce_invertibility` set to True.\n",
      "Non-stationary starting autoregressive parameters found with `enforce_stationarity` set to True.\n",
      "non-invertible starting seasonal moving average parameters found with `enforce_invertibility` set to True.\n",
      "non-invertible starting seasonal moving average parameters found with `enforce_invertibility` set to True.\n",
      "non-invertible starting seasonal moving average parameters found with `enforce_invertibility` set to True.\n",
      "non-invertible starting seasonal moving average parameters found with `enforce_invertibility` set to True.\n",
      "Non-stationary starting autoregressive parameters found with `enforce_stationarity` set to True.\n",
      "Non-stationary starting autoregressive parameters found with `enforce_stationarity` set to True.\n",
      "non-invertible starting seasonal moving average parameters found with `enforce_invertibility` set to True.\n",
      "Non-stationary starting autoregressive parameters found with `enforce_stationarity` set to True.\n",
      "Non-stationary starting autoregressive parameters found with `enforce_stationarity` set to True.\n",
      "Non-stationary starting autoregressive parameters found with `enforce_stationarity` set to True.\n",
      "non-invertible starting seasonal moving average parameters found with `enforce_invertibility` set to True.\n",
      "Non-stationary starting autoregressive parameters found with `enforce_stationarity` set to True.\n",
      "could not broadcast input array from shape (0,0) into shape (1,1)\n",
      "could not broadcast input array from shape (0,0) into shape (8,8)\n",
      "non-invertible starting seasonal moving average parameters found with `enforce_invertibility` set to True.\n",
      "could not broadcast input array from shape (0,0) into shape (15,15)\n",
      "non-invertible starting seasonal moving average parameters found with `enforce_invertibility` set to True.\n"
     ]
    },
    {
     "name": "stderr",
     "output_type": "stream",
     "text": [
      "/usr/local/lib/python2.7/dist-packages/statsmodels/base/model.py:475: ConvergenceWarning: Maximum Likelihood optimization failed to converge. Check mle_retvals\n",
      "  \"Check mle_retvals\", ConvergenceWarning)\n"
     ]
    },
    {
     "name": "stdout",
     "output_type": "stream",
     "text": [
      "non-invertible starting seasonal moving average parameters found with `enforce_invertibility` set to True.\n",
      "Non-stationary starting autoregressive parameters found with `enforce_stationarity` set to True.\n",
      "non-invertible starting seasonal moving average parameters found with `enforce_invertibility` set to True.\n",
      "Non-stationary starting autoregressive parameters found with `enforce_stationarity` set to True.\n"
     ]
    },
    {
     "name": "stderr",
     "output_type": "stream",
     "text": [
      "/usr/local/lib/python2.7/dist-packages/statsmodels/base/model.py:475: ConvergenceWarning: Maximum Likelihood optimization failed to converge. Check mle_retvals\n",
      "  \"Check mle_retvals\", ConvergenceWarning)\n"
     ]
    },
    {
     "name": "stdout",
     "output_type": "stream",
     "text": [
      "non-invertible starting seasonal moving average parameters found with `enforce_invertibility` set to True.\n",
      "non-invertible starting seasonal moving average parameters found with `enforce_invertibility` set to True.\n"
     ]
    },
    {
     "name": "stderr",
     "output_type": "stream",
     "text": [
      "/usr/local/lib/python2.7/dist-packages/statsmodels/base/model.py:475: ConvergenceWarning: Maximum Likelihood optimization failed to converge. Check mle_retvals\n",
      "  \"Check mle_retvals\", ConvergenceWarning)\n"
     ]
    },
    {
     "name": "stdout",
     "output_type": "stream",
     "text": [
      "non-invertible starting seasonal moving average parameters found with `enforce_invertibility` set to True.\n",
      "Non-stationary starting autoregressive parameters found with `enforce_stationarity` set to True.\n"
     ]
    },
    {
     "name": "stderr",
     "output_type": "stream",
     "text": [
      "/usr/local/lib/python2.7/dist-packages/statsmodels/base/model.py:475: ConvergenceWarning: Maximum Likelihood optimization failed to converge. Check mle_retvals\n",
      "  \"Check mle_retvals\", ConvergenceWarning)\n"
     ]
    },
    {
     "name": "stdout",
     "output_type": "stream",
     "text": [
      "non-invertible starting seasonal moving average parameters found with `enforce_invertibility` set to True.\n",
      "Non-stationary starting autoregressive parameters found with `enforce_stationarity` set to True.\n"
     ]
    },
    {
     "name": "stderr",
     "output_type": "stream",
     "text": [
      "/usr/local/lib/python2.7/dist-packages/statsmodels/base/model.py:475: ConvergenceWarning: Maximum Likelihood optimization failed to converge. Check mle_retvals\n",
      "  \"Check mle_retvals\", ConvergenceWarning)\n"
     ]
    },
    {
     "name": "stdout",
     "output_type": "stream",
     "text": [
      "non-invertible starting seasonal moving average parameters found with `enforce_invertibility` set to True.\n",
      "non-invertible starting seasonal moving average parameters found with `enforce_invertibility` set to True.\n"
     ]
    },
    {
     "name": "stderr",
     "output_type": "stream",
     "text": [
      "/usr/local/lib/python2.7/dist-packages/statsmodels/base/model.py:475: ConvergenceWarning: Maximum Likelihood optimization failed to converge. Check mle_retvals\n",
      "  \"Check mle_retvals\", ConvergenceWarning)\n"
     ]
    },
    {
     "name": "stdout",
     "output_type": "stream",
     "text": [
      "non-invertible starting seasonal moving average parameters found with `enforce_invertibility` set to True.\n",
      "Non-stationary starting autoregressive parameters found with `enforce_stationarity` set to True.\n"
     ]
    },
    {
     "name": "stderr",
     "output_type": "stream",
     "text": [
      "/usr/local/lib/python2.7/dist-packages/statsmodels/base/model.py:475: ConvergenceWarning: Maximum Likelihood optimization failed to converge. Check mle_retvals\n",
      "  \"Check mle_retvals\", ConvergenceWarning)\n"
     ]
    },
    {
     "name": "stdout",
     "output_type": "stream",
     "text": [
      "non-invertible starting seasonal moving average parameters found with `enforce_invertibility` set to True.\n",
      "Non-stationary starting autoregressive parameters found with `enforce_stationarity` set to True.\n",
      "could not broadcast input array from shape (0,0) into shape (2,2)\n",
      "could not broadcast input array from shape (0,0) into shape (9,9)\n",
      "non-invertible starting seasonal moving average parameters found with `enforce_invertibility` set to True.\n",
      "could not broadcast input array from shape (0,0) into shape (16,16)\n"
     ]
    },
    {
     "name": "stderr",
     "output_type": "stream",
     "text": [
      "/usr/local/lib/python2.7/dist-packages/statsmodels/tsa/statespace/sarimax.py:924: RuntimeWarning: Mean of empty slice.\n",
      "  params_variance = (residuals[k_params_ma:]**2).mean()\n",
      "/home/ubuntu/.local/lib/python2.7/site-packages/numpy/core/_methods.py:80: RuntimeWarning: invalid value encountered in double_scalars\n",
      "  ret = ret.dtype.type(ret / rcount)\n"
     ]
    },
    {
     "name": "stdout",
     "output_type": "stream",
     "text": [
      "non-invertible starting seasonal moving average parameters found with `enforce_invertibility` set to True.\n"
     ]
    },
    {
     "name": "stderr",
     "output_type": "stream",
     "text": [
      "/usr/local/lib/python2.7/dist-packages/statsmodels/base/model.py:475: ConvergenceWarning: Maximum Likelihood optimization failed to converge. Check mle_retvals\n",
      "  \"Check mle_retvals\", ConvergenceWarning)\n"
     ]
    },
    {
     "name": "stdout",
     "output_type": "stream",
     "text": [
      "Non-stationary starting autoregressive parameters found with `enforce_stationarity` set to True.\n",
      "Non-stationary starting autoregressive parameters found with `enforce_stationarity` set to True.\n"
     ]
    },
    {
     "name": "stderr",
     "output_type": "stream",
     "text": [
      "/usr/local/lib/python2.7/dist-packages/statsmodels/base/model.py:475: ConvergenceWarning: Maximum Likelihood optimization failed to converge. Check mle_retvals\n",
      "  \"Check mle_retvals\", ConvergenceWarning)\n"
     ]
    },
    {
     "name": "stdout",
     "output_type": "stream",
     "text": [
      "Non-stationary starting autoregressive parameters found with `enforce_stationarity` set to True.\n",
      "Non-stationary starting autoregressive parameters found with `enforce_stationarity` set to True.\n",
      "non-invertible starting seasonal moving average parameters found with `enforce_invertibility` set to True.\n",
      "non-invertible starting seasonal moving average parameters found with `enforce_invertibility` set to True.\n"
     ]
    },
    {
     "name": "stderr",
     "output_type": "stream",
     "text": [
      "/usr/local/lib/python2.7/dist-packages/statsmodels/base/model.py:475: ConvergenceWarning: Maximum Likelihood optimization failed to converge. Check mle_retvals\n",
      "  \"Check mle_retvals\", ConvergenceWarning)\n"
     ]
    },
    {
     "name": "stdout",
     "output_type": "stream",
     "text": [
      "Non-stationary starting autoregressive parameters found with `enforce_stationarity` set to True.\n",
      "Non-stationary starting autoregressive parameters found with `enforce_stationarity` set to True.\n",
      "Non-stationary starting autoregressive parameters found with `enforce_stationarity` set to True.\n",
      "Non-stationary starting autoregressive parameters found with `enforce_stationarity` set to True.\n",
      "non-invertible starting MA parameters found with `enforce_invertibility` set to True.\n",
      "non-invertible starting MA parameters found with `enforce_invertibility` set to True.\n",
      "non-invertible starting MA parameters found with `enforce_invertibility` set to True.\n",
      "non-invertible starting seasonal moving average parameters found with `enforce_invertibility` set to True.\n",
      "non-invertible starting seasonal moving average parameters found with `enforce_invertibility` set to True.\n",
      "non-invertible starting MA parameters found with `enforce_invertibility` set to True.\n",
      "non-invertible starting MA parameters found with `enforce_invertibility` set to True.\n",
      "non-invertible starting MA parameters found with `enforce_invertibility` set to True.\n",
      "Non-stationary starting autoregressive parameters found with `enforce_stationarity` set to True.\n",
      "Non-stationary starting autoregressive parameters found with `enforce_stationarity` set to True.\n",
      "non-invertible starting MA parameters found with `enforce_invertibility` set to True.\n",
      "non-invertible starting MA parameters found with `enforce_invertibility` set to True.\n",
      "non-invertible starting MA parameters found with `enforce_invertibility` set to True.\n",
      "Non-stationary starting autoregressive parameters found with `enforce_stationarity` set to True.\n",
      "Non-stationary starting autoregressive parameters found with `enforce_stationarity` set to True.\n",
      "non-invertible starting seasonal moving average parameters found with `enforce_invertibility` set to True.\n",
      "non-invertible starting seasonal moving average parameters found with `enforce_invertibility` set to True.\n",
      "non-invertible starting seasonal moving average parameters found with `enforce_invertibility` set to True.\n",
      "non-invertible starting seasonal moving average parameters found with `enforce_invertibility` set to True.\n",
      "Non-stationary starting autoregressive parameters found with `enforce_stationarity` set to True.\n",
      "Non-stationary starting autoregressive parameters found with `enforce_stationarity` set to True.\n",
      "non-invertible starting seasonal moving average parameters found with `enforce_invertibility` set to True.\n",
      "Non-stationary starting autoregressive parameters found with `enforce_stationarity` set to True.\n",
      "Non-stationary starting autoregressive parameters found with `enforce_stationarity` set to True.\n",
      "Non-stationary starting autoregressive parameters found with `enforce_stationarity` set to True.\n"
     ]
    },
    {
     "name": "stderr",
     "output_type": "stream",
     "text": [
      "/usr/local/lib/python2.7/dist-packages/statsmodels/base/model.py:475: ConvergenceWarning: Maximum Likelihood optimization failed to converge. Check mle_retvals\n",
      "  \"Check mle_retvals\", ConvergenceWarning)\n"
     ]
    },
    {
     "name": "stdout",
     "output_type": "stream",
     "text": [
      "non-invertible starting seasonal moving average parameters found with `enforce_invertibility` set to True.\n",
      "Non-stationary starting autoregressive parameters found with `enforce_stationarity` set to True.\n",
      "non-invertible starting seasonal moving average parameters found with `enforce_invertibility` set to True.\n",
      "non-invertible starting seasonal moving average parameters found with `enforce_invertibility` set to True.\n",
      "non-invertible starting seasonal moving average parameters found with `enforce_invertibility` set to True.\n",
      "non-invertible starting seasonal moving average parameters found with `enforce_invertibility` set to True.\n",
      "Non-stationary starting autoregressive parameters found with `enforce_stationarity` set to True.\n",
      "Non-stationary starting autoregressive parameters found with `enforce_stationarity` set to True.\n",
      "non-invertible starting seasonal moving average parameters found with `enforce_invertibility` set to True.\n",
      "Non-stationary starting autoregressive parameters found with `enforce_stationarity` set to True.\n",
      "Non-stationary starting autoregressive parameters found with `enforce_stationarity` set to True.\n",
      "Non-stationary starting autoregressive parameters found with `enforce_stationarity` set to True.\n",
      "non-invertible starting seasonal moving average parameters found with `enforce_invertibility` set to True.\n",
      "Non-stationary starting autoregressive parameters found with `enforce_stationarity` set to True.\n",
      "non-invertible starting seasonal moving average parameters found with `enforce_invertibility` set to True.\n",
      "non-invertible starting seasonal moving average parameters found with `enforce_invertibility` set to True.\n",
      "non-invertible starting seasonal moving average parameters found with `enforce_invertibility` set to True.\n",
      "non-invertible starting seasonal moving average parameters found with `enforce_invertibility` set to True.\n",
      "Non-stationary starting autoregressive parameters found with `enforce_stationarity` set to True.\n",
      "Non-stationary starting autoregressive parameters found with `enforce_stationarity` set to True.\n",
      "non-invertible starting seasonal moving average parameters found with `enforce_invertibility` set to True.\n",
      "Non-stationary starting autoregressive parameters found with `enforce_stationarity` set to True.\n",
      "Non-stationary starting autoregressive parameters found with `enforce_stationarity` set to True.\n",
      "Non-stationary starting autoregressive parameters found with `enforce_stationarity` set to True.\n"
     ]
    },
    {
     "name": "stderr",
     "output_type": "stream",
     "text": [
      "/usr/local/lib/python2.7/dist-packages/statsmodels/base/model.py:475: ConvergenceWarning: Maximum Likelihood optimization failed to converge. Check mle_retvals\n",
      "  \"Check mle_retvals\", ConvergenceWarning)\n"
     ]
    },
    {
     "name": "stdout",
     "output_type": "stream",
     "text": [
      "non-invertible starting seasonal moving average parameters found with `enforce_invertibility` set to True.\n",
      "Non-stationary starting autoregressive parameters found with `enforce_stationarity` set to True.\n"
     ]
    },
    {
     "name": "stderr",
     "output_type": "stream",
     "text": [
      "/usr/local/lib/python2.7/dist-packages/statsmodels/base/model.py:475: ConvergenceWarning: Maximum Likelihood optimization failed to converge. Check mle_retvals\n",
      "  \"Check mle_retvals\", ConvergenceWarning)\n"
     ]
    },
    {
     "name": "stdout",
     "output_type": "stream",
     "text": [
      "non-invertible starting seasonal moving average parameters found with `enforce_invertibility` set to True.\n",
      "non-invertible starting seasonal moving average parameters found with `enforce_invertibility` set to True.\n"
     ]
    },
    {
     "name": "stderr",
     "output_type": "stream",
     "text": [
      "/usr/local/lib/python2.7/dist-packages/statsmodels/base/model.py:475: ConvergenceWarning: Maximum Likelihood optimization failed to converge. Check mle_retvals\n",
      "  \"Check mle_retvals\", ConvergenceWarning)\n"
     ]
    },
    {
     "name": "stdout",
     "output_type": "stream",
     "text": [
      "non-invertible starting seasonal moving average parameters found with `enforce_invertibility` set to True.\n",
      "Non-stationary starting autoregressive parameters found with `enforce_stationarity` set to True.\n"
     ]
    },
    {
     "name": "stderr",
     "output_type": "stream",
     "text": [
      "/usr/local/lib/python2.7/dist-packages/statsmodels/base/model.py:475: ConvergenceWarning: Maximum Likelihood optimization failed to converge. Check mle_retvals\n",
      "  \"Check mle_retvals\", ConvergenceWarning)\n"
     ]
    },
    {
     "name": "stdout",
     "output_type": "stream",
     "text": [
      "non-invertible starting seasonal moving average parameters found with `enforce_invertibility` set to True.\n",
      "Non-stationary starting autoregressive parameters found with `enforce_stationarity` set to True.\n"
     ]
    },
    {
     "name": "stderr",
     "output_type": "stream",
     "text": [
      "/usr/local/lib/python2.7/dist-packages/statsmodels/base/model.py:475: ConvergenceWarning: Maximum Likelihood optimization failed to converge. Check mle_retvals\n",
      "  \"Check mle_retvals\", ConvergenceWarning)\n"
     ]
    },
    {
     "name": "stdout",
     "output_type": "stream",
     "text": [
      "non-invertible starting seasonal moving average parameters found with `enforce_invertibility` set to True.\n",
      "non-invertible starting seasonal moving average parameters found with `enforce_invertibility` set to True.\n"
     ]
    },
    {
     "name": "stderr",
     "output_type": "stream",
     "text": [
      "/usr/local/lib/python2.7/dist-packages/statsmodels/base/model.py:475: ConvergenceWarning: Maximum Likelihood optimization failed to converge. Check mle_retvals\n",
      "  \"Check mle_retvals\", ConvergenceWarning)\n"
     ]
    },
    {
     "name": "stdout",
     "output_type": "stream",
     "text": [
      "non-invertible starting seasonal moving average parameters found with `enforce_invertibility` set to True.\n",
      "Non-stationary starting autoregressive parameters found with `enforce_stationarity` set to True.\n"
     ]
    },
    {
     "name": "stderr",
     "output_type": "stream",
     "text": [
      "/usr/local/lib/python2.7/dist-packages/statsmodels/base/model.py:475: ConvergenceWarning: Maximum Likelihood optimization failed to converge. Check mle_retvals\n",
      "  \"Check mle_retvals\", ConvergenceWarning)\n"
     ]
    },
    {
     "name": "stdout",
     "output_type": "stream",
     "text": [
      "non-invertible starting seasonal moving average parameters found with `enforce_invertibility` set to True.\n",
      "Non-stationary starting autoregressive parameters found with `enforce_stationarity` set to True.\n",
      "non-invertible starting MA parameters found with `enforce_invertibility` set to True.\n",
      "non-invertible starting MA parameters found with `enforce_invertibility` set to True.\n",
      "non-invertible starting MA parameters found with `enforce_invertibility` set to True.\n",
      "non-invertible starting seasonal moving average parameters found with `enforce_invertibility` set to True.\n",
      "non-invertible starting seasonal moving average parameters found with `enforce_invertibility` set to True.\n",
      "non-invertible starting MA parameters found with `enforce_invertibility` set to True.\n",
      "non-invertible starting MA parameters found with `enforce_invertibility` set to True.\n",
      "non-invertible starting MA parameters found with `enforce_invertibility` set to True.\n",
      "non-invertible starting seasonal moving average parameters found with `enforce_invertibility` set to True.\n",
      "Non-stationary starting autoregressive parameters found with `enforce_stationarity` set to True.\n",
      "non-invertible starting MA parameters found with `enforce_invertibility` set to True.\n",
      "non-invertible starting MA parameters found with `enforce_invertibility` set to True.\n",
      "non-invertible starting MA parameters found with `enforce_invertibility` set to True.\n",
      "non-invertible starting seasonal moving average parameters found with `enforce_invertibility` set to True.\n",
      "Non-stationary starting autoregressive parameters found with `enforce_stationarity` set to True.\n",
      "non-invertible starting seasonal moving average parameters found with `enforce_invertibility` set to True.\n",
      "non-invertible starting seasonal moving average parameters found with `enforce_invertibility` set to True.\n",
      "Non-stationary starting autoregressive parameters found with `enforce_stationarity` set to True.\n",
      "Non-stationary starting autoregressive parameters found with `enforce_stationarity` set to True.\n"
     ]
    },
    {
     "name": "stderr",
     "output_type": "stream",
     "text": [
      "/usr/local/lib/python2.7/dist-packages/statsmodels/base/model.py:475: ConvergenceWarning: Maximum Likelihood optimization failed to converge. Check mle_retvals\n",
      "  \"Check mle_retvals\", ConvergenceWarning)\n"
     ]
    },
    {
     "name": "stdout",
     "output_type": "stream",
     "text": [
      "Non-stationary starting autoregressive parameters found with `enforce_stationarity` set to True.\n",
      "Non-stationary starting autoregressive parameters found with `enforce_stationarity` set to True.\n",
      "non-invertible starting seasonal moving average parameters found with `enforce_invertibility` set to True.\n",
      "non-invertible starting seasonal moving average parameters found with `enforce_invertibility` set to True.\n"
     ]
    },
    {
     "name": "stderr",
     "output_type": "stream",
     "text": [
      "/usr/local/lib/python2.7/dist-packages/statsmodels/base/model.py:475: ConvergenceWarning: Maximum Likelihood optimization failed to converge. Check mle_retvals\n",
      "  \"Check mle_retvals\", ConvergenceWarning)\n"
     ]
    },
    {
     "name": "stdout",
     "output_type": "stream",
     "text": [
      "Non-stationary starting autoregressive parameters found with `enforce_stationarity` set to True.\n",
      "Non-stationary starting autoregressive parameters found with `enforce_stationarity` set to True.\n"
     ]
    },
    {
     "name": "stderr",
     "output_type": "stream",
     "text": [
      "/usr/local/lib/python2.7/dist-packages/statsmodels/base/model.py:475: ConvergenceWarning: Maximum Likelihood optimization failed to converge. Check mle_retvals\n",
      "  \"Check mle_retvals\", ConvergenceWarning)\n"
     ]
    },
    {
     "name": "stdout",
     "output_type": "stream",
     "text": [
      "Non-stationary starting autoregressive parameters found with `enforce_stationarity` set to True.\n",
      "Non-stationary starting autoregressive parameters found with `enforce_stationarity` set to True.\n",
      "non-invertible starting MA parameters found with `enforce_invertibility` set to True.\n",
      "non-invertible starting MA parameters found with `enforce_invertibility` set to True.\n",
      "non-invertible starting MA parameters found with `enforce_invertibility` set to True.\n",
      "non-invertible starting seasonal moving average parameters found with `enforce_invertibility` set to True.\n"
     ]
    },
    {
     "name": "stderr",
     "output_type": "stream",
     "text": [
      "/usr/local/lib/python2.7/dist-packages/statsmodels/base/model.py:475: ConvergenceWarning: Maximum Likelihood optimization failed to converge. Check mle_retvals\n",
      "  \"Check mle_retvals\", ConvergenceWarning)\n"
     ]
    },
    {
     "name": "stdout",
     "output_type": "stream",
     "text": [
      "non-invertible starting seasonal moving average parameters found with `enforce_invertibility` set to True.\n",
      "non-invertible starting MA parameters found with `enforce_invertibility` set to True.\n",
      "non-invertible starting MA parameters found with `enforce_invertibility` set to True.\n",
      "non-invertible starting MA parameters found with `enforce_invertibility` set to True.\n",
      "Non-stationary starting autoregressive parameters found with `enforce_stationarity` set to True.\n"
     ]
    },
    {
     "name": "stderr",
     "output_type": "stream",
     "text": [
      "/usr/local/lib/python2.7/dist-packages/statsmodels/base/model.py:475: ConvergenceWarning: Maximum Likelihood optimization failed to converge. Check mle_retvals\n",
      "  \"Check mle_retvals\", ConvergenceWarning)\n"
     ]
    },
    {
     "name": "stdout",
     "output_type": "stream",
     "text": [
      "Non-stationary starting autoregressive parameters found with `enforce_stationarity` set to True.\n",
      "non-invertible starting MA parameters found with `enforce_invertibility` set to True.\n",
      "non-invertible starting MA parameters found with `enforce_invertibility` set to True.\n",
      "non-invertible starting MA parameters found with `enforce_invertibility` set to True.\n"
     ]
    },
    {
     "name": "stderr",
     "output_type": "stream",
     "text": [
      "/usr/local/lib/python2.7/dist-packages/statsmodels/base/model.py:475: ConvergenceWarning: Maximum Likelihood optimization failed to converge. Check mle_retvals\n",
      "  \"Check mle_retvals\", ConvergenceWarning)\n",
      "/usr/local/lib/python2.7/dist-packages/statsmodels/base/model.py:475: ConvergenceWarning: Maximum Likelihood optimization failed to converge. Check mle_retvals\n",
      "  \"Check mle_retvals\", ConvergenceWarning)\n"
     ]
    },
    {
     "name": "stdout",
     "output_type": "stream",
     "text": [
      "Non-stationary starting autoregressive parameters found with `enforce_stationarity` set to True.\n",
      "Non-stationary starting autoregressive parameters found with `enforce_stationarity` set to True.\n",
      "non-invertible starting seasonal moving average parameters found with `enforce_invertibility` set to True.\n",
      "non-invertible starting seasonal moving average parameters found with `enforce_invertibility` set to True.\n",
      "non-invertible starting seasonal moving average parameters found with `enforce_invertibility` set to True.\n",
      "non-invertible starting seasonal moving average parameters found with `enforce_invertibility` set to True.\n",
      "Non-stationary starting autoregressive parameters found with `enforce_stationarity` set to True.\n",
      "Non-stationary starting autoregressive parameters found with `enforce_stationarity` set to True.\n",
      "non-invertible starting seasonal moving average parameters found with `enforce_invertibility` set to True.\n",
      "Non-stationary starting autoregressive parameters found with `enforce_stationarity` set to True.\n",
      "Non-stationary starting autoregressive parameters found with `enforce_stationarity` set to True.\n",
      "Non-stationary starting autoregressive parameters found with `enforce_stationarity` set to True.\n"
     ]
    },
    {
     "name": "stderr",
     "output_type": "stream",
     "text": [
      "/usr/local/lib/python2.7/dist-packages/statsmodels/base/model.py:475: ConvergenceWarning: Maximum Likelihood optimization failed to converge. Check mle_retvals\n",
      "  \"Check mle_retvals\", ConvergenceWarning)\n"
     ]
    },
    {
     "name": "stdout",
     "output_type": "stream",
     "text": [
      "non-invertible starting seasonal moving average parameters found with `enforce_invertibility` set to True.\n",
      "Non-stationary starting autoregressive parameters found with `enforce_stationarity` set to True.\n",
      "non-invertible starting MA parameters found with `enforce_invertibility` set to True.\n",
      "non-invertible starting MA parameters found with `enforce_invertibility` set to True.\n",
      "non-invertible starting MA parameters found with `enforce_invertibility` set to True.\n",
      "non-invertible starting seasonal moving average parameters found with `enforce_invertibility` set to True.\n",
      "non-invertible starting seasonal moving average parameters found with `enforce_invertibility` set to True.\n",
      "non-invertible starting MA parameters found with `enforce_invertibility` set to True.\n",
      "non-invertible starting MA parameters found with `enforce_invertibility` set to True.\n",
      "non-invertible starting MA parameters found with `enforce_invertibility` set to True.\n",
      "non-invertible starting seasonal moving average parameters found with `enforce_invertibility` set to True.\n",
      "Non-stationary starting autoregressive parameters found with `enforce_stationarity` set to True.\n",
      "non-invertible starting MA parameters found with `enforce_invertibility` set to True.\n",
      "non-invertible starting MA parameters found with `enforce_invertibility` set to True.\n",
      "non-invertible starting MA parameters found with `enforce_invertibility` set to True.\n",
      "non-invertible starting seasonal moving average parameters found with `enforce_invertibility` set to True.\n",
      "Non-stationary starting autoregressive parameters found with `enforce_stationarity` set to True.\n",
      "Non-stationary starting autoregressive parameters found with `enforce_stationarity` set to True.\n",
      "Non-stationary starting autoregressive parameters found with `enforce_stationarity` set to True.\n",
      "Non-stationary starting autoregressive parameters found with `enforce_stationarity` set to True.\n"
     ]
    },
    {
     "name": "stderr",
     "output_type": "stream",
     "text": [
      "/usr/local/lib/python2.7/dist-packages/statsmodels/base/model.py:475: ConvergenceWarning: Maximum Likelihood optimization failed to converge. Check mle_retvals\n",
      "  \"Check mle_retvals\", ConvergenceWarning)\n"
     ]
    },
    {
     "name": "stdout",
     "output_type": "stream",
     "text": [
      "non-invertible starting seasonal moving average parameters found with `enforce_invertibility` set to True.\n",
      "Non-stationary starting autoregressive parameters found with `enforce_stationarity` set to True.\n",
      "Non-stationary starting autoregressive parameters found with `enforce_stationarity` set to True.\n",
      "Non-stationary starting autoregressive parameters found with `enforce_stationarity` set to True.\n",
      "Non-stationary starting autoregressive parameters found with `enforce_stationarity` set to True.\n",
      "Non-stationary starting autoregressive parameters found with `enforce_stationarity` set to True.\n",
      "Non-stationary starting autoregressive parameters found with `enforce_stationarity` set to True.\n",
      "Singular matrix\n",
      "non-invertible starting seasonal moving average parameters found with `enforce_invertibility` set to True.\n",
      "Non-stationary starting autoregressive parameters found with `enforce_stationarity` set to True.\n",
      "Non-stationary starting autoregressive parameters found with `enforce_stationarity` set to True.\n",
      "Non-stationary starting autoregressive parameters found with `enforce_stationarity` set to True.\n",
      "Non-stationary starting autoregressive parameters found with `enforce_stationarity` set to True.\n",
      "Non-stationary starting autoregressive parameters found with `enforce_stationarity` set to True.\n",
      "Non-stationary starting autoregressive parameters found with `enforce_stationarity` set to True.\n",
      "Singular matrix\n",
      "non-invertible starting seasonal moving average parameters found with `enforce_invertibility` set to True.\n",
      "Non-stationary starting autoregressive parameters found with `enforce_stationarity` set to True.\n",
      "Non-stationary starting autoregressive parameters found with `enforce_stationarity` set to True.\n",
      "Non-stationary starting autoregressive parameters found with `enforce_stationarity` set to True.\n"
     ]
    },
    {
     "name": "stderr",
     "output_type": "stream",
     "text": [
      "/usr/local/lib/python2.7/dist-packages/statsmodels/base/model.py:475: ConvergenceWarning: Maximum Likelihood optimization failed to converge. Check mle_retvals\n",
      "  \"Check mle_retvals\", ConvergenceWarning)\n"
     ]
    },
    {
     "name": "stdout",
     "output_type": "stream",
     "text": [
      "non-invertible starting seasonal moving average parameters found with `enforce_invertibility` set to True.\n",
      "non-invertible starting seasonal moving average parameters found with `enforce_invertibility` set to True.\n",
      "non-invertible starting seasonal moving average parameters found with `enforce_invertibility` set to True.\n",
      "Non-stationary starting autoregressive parameters found with `enforce_stationarity` set to True.\n"
     ]
    },
    {
     "name": "stderr",
     "output_type": "stream",
     "text": [
      "/usr/local/lib/python2.7/dist-packages/statsmodels/base/model.py:475: ConvergenceWarning: Maximum Likelihood optimization failed to converge. Check mle_retvals\n",
      "  \"Check mle_retvals\", ConvergenceWarning)\n"
     ]
    },
    {
     "name": "stdout",
     "output_type": "stream",
     "text": [
      "non-invertible starting seasonal moving average parameters found with `enforce_invertibility` set to True.\n",
      "Non-stationary starting autoregressive parameters found with `enforce_stationarity` set to True.\n"
     ]
    },
    {
     "name": "stderr",
     "output_type": "stream",
     "text": [
      "/usr/local/lib/python2.7/dist-packages/statsmodels/base/model.py:475: ConvergenceWarning: Maximum Likelihood optimization failed to converge. Check mle_retvals\n",
      "  \"Check mle_retvals\", ConvergenceWarning)\n"
     ]
    },
    {
     "name": "stdout",
     "output_type": "stream",
     "text": [
      "non-invertible starting seasonal moving average parameters found with `enforce_invertibility` set to True.\n",
      "non-invertible starting seasonal moving average parameters found with `enforce_invertibility` set to True.\n"
     ]
    },
    {
     "name": "stderr",
     "output_type": "stream",
     "text": [
      "/usr/local/lib/python2.7/dist-packages/statsmodels/base/model.py:475: ConvergenceWarning: Maximum Likelihood optimization failed to converge. Check mle_retvals\n",
      "  \"Check mle_retvals\", ConvergenceWarning)\n"
     ]
    },
    {
     "name": "stdout",
     "output_type": "stream",
     "text": [
      "non-invertible starting seasonal moving average parameters found with `enforce_invertibility` set to True.\n",
      "Non-stationary starting autoregressive parameters found with `enforce_stationarity` set to True.\n"
     ]
    },
    {
     "name": "stderr",
     "output_type": "stream",
     "text": [
      "/usr/local/lib/python2.7/dist-packages/statsmodels/base/model.py:475: ConvergenceWarning: Maximum Likelihood optimization failed to converge. Check mle_retvals\n",
      "  \"Check mle_retvals\", ConvergenceWarning)\n"
     ]
    },
    {
     "name": "stdout",
     "output_type": "stream",
     "text": [
      "non-invertible starting seasonal moving average parameters found with `enforce_invertibility` set to True.\n",
      "Non-stationary starting autoregressive parameters found with `enforce_stationarity` set to True.\n",
      "non-invertible starting MA parameters found with `enforce_invertibility` set to True.\n",
      "non-invertible starting MA parameters found with `enforce_invertibility` set to True.\n",
      "non-invertible starting MA parameters found with `enforce_invertibility` set to True.\n"
     ]
    },
    {
     "name": "stderr",
     "output_type": "stream",
     "text": [
      "/usr/local/lib/python2.7/dist-packages/statsmodels/base/model.py:475: ConvergenceWarning: Maximum Likelihood optimization failed to converge. Check mle_retvals\n",
      "  \"Check mle_retvals\", ConvergenceWarning)\n"
     ]
    },
    {
     "name": "stdout",
     "output_type": "stream",
     "text": [
      "non-invertible starting seasonal moving average parameters found with `enforce_invertibility` set to True.\n",
      "non-invertible starting seasonal moving average parameters found with `enforce_invertibility` set to True.\n",
      "non-invertible starting MA parameters found with `enforce_invertibility` set to True.\n",
      "non-invertible starting MA parameters found with `enforce_invertibility` set to True.\n",
      "non-invertible starting MA parameters found with `enforce_invertibility` set to True.\n"
     ]
    },
    {
     "name": "stderr",
     "output_type": "stream",
     "text": [
      "/usr/local/lib/python2.7/dist-packages/statsmodels/base/model.py:475: ConvergenceWarning: Maximum Likelihood optimization failed to converge. Check mle_retvals\n",
      "  \"Check mle_retvals\", ConvergenceWarning)\n"
     ]
    },
    {
     "name": "stdout",
     "output_type": "stream",
     "text": [
      "non-invertible starting seasonal moving average parameters found with `enforce_invertibility` set to True.\n",
      "Non-stationary starting autoregressive parameters found with `enforce_stationarity` set to True.\n",
      "non-invertible starting MA parameters found with `enforce_invertibility` set to True.\n",
      "non-invertible starting MA parameters found with `enforce_invertibility` set to True.\n",
      "non-invertible starting MA parameters found with `enforce_invertibility` set to True.\n"
     ]
    },
    {
     "name": "stderr",
     "output_type": "stream",
     "text": [
      "/usr/local/lib/python2.7/dist-packages/statsmodels/base/model.py:475: ConvergenceWarning: Maximum Likelihood optimization failed to converge. Check mle_retvals\n",
      "  \"Check mle_retvals\", ConvergenceWarning)\n",
      "/usr/local/lib/python2.7/dist-packages/statsmodels/base/model.py:475: ConvergenceWarning: Maximum Likelihood optimization failed to converge. Check mle_retvals\n",
      "  \"Check mle_retvals\", ConvergenceWarning)\n"
     ]
    },
    {
     "name": "stdout",
     "output_type": "stream",
     "text": [
      "non-invertible starting seasonal moving average parameters found with `enforce_invertibility` set to True.\n",
      "Non-stationary starting autoregressive parameters found with `enforce_stationarity` set to True.\n",
      "non-invertible starting seasonal moving average parameters found with `enforce_invertibility` set to True.\n",
      "non-invertible starting seasonal moving average parameters found with `enforce_invertibility` set to True.\n"
     ]
    },
    {
     "name": "stderr",
     "output_type": "stream",
     "text": [
      "/usr/local/lib/python2.7/dist-packages/statsmodels/base/model.py:475: ConvergenceWarning: Maximum Likelihood optimization failed to converge. Check mle_retvals\n",
      "  \"Check mle_retvals\", ConvergenceWarning)\n"
     ]
    },
    {
     "name": "stdout",
     "output_type": "stream",
     "text": [
      "Non-stationary starting autoregressive parameters found with `enforce_stationarity` set to True.\n",
      "Non-stationary starting autoregressive parameters found with `enforce_stationarity` set to True.\n"
     ]
    },
    {
     "name": "stderr",
     "output_type": "stream",
     "text": [
      "/usr/local/lib/python2.7/dist-packages/statsmodels/base/model.py:475: ConvergenceWarning: Maximum Likelihood optimization failed to converge. Check mle_retvals\n",
      "  \"Check mle_retvals\", ConvergenceWarning)\n"
     ]
    },
    {
     "name": "stdout",
     "output_type": "stream",
     "text": [
      "Non-stationary starting autoregressive parameters found with `enforce_stationarity` set to True.\n",
      "Non-stationary starting autoregressive parameters found with `enforce_stationarity` set to True.\n",
      "non-invertible starting seasonal moving average parameters found with `enforce_invertibility` set to True.\n",
      "non-invertible starting seasonal moving average parameters found with `enforce_invertibility` set to True.\n"
     ]
    },
    {
     "name": "stderr",
     "output_type": "stream",
     "text": [
      "/usr/local/lib/python2.7/dist-packages/statsmodels/base/model.py:475: ConvergenceWarning: Maximum Likelihood optimization failed to converge. Check mle_retvals\n",
      "  \"Check mle_retvals\", ConvergenceWarning)\n"
     ]
    },
    {
     "name": "stdout",
     "output_type": "stream",
     "text": [
      "Non-stationary starting autoregressive parameters found with `enforce_stationarity` set to True.\n",
      "Non-stationary starting autoregressive parameters found with `enforce_stationarity` set to True.\n"
     ]
    },
    {
     "name": "stderr",
     "output_type": "stream",
     "text": [
      "/usr/local/lib/python2.7/dist-packages/statsmodels/base/model.py:475: ConvergenceWarning: Maximum Likelihood optimization failed to converge. Check mle_retvals\n",
      "  \"Check mle_retvals\", ConvergenceWarning)\n"
     ]
    },
    {
     "name": "stdout",
     "output_type": "stream",
     "text": [
      "Non-stationary starting autoregressive parameters found with `enforce_stationarity` set to True.\n",
      "Non-stationary starting autoregressive parameters found with `enforce_stationarity` set to True.\n",
      "Non-stationary starting autoregressive parameters found with `enforce_stationarity` set to True.\n",
      "Non-stationary starting autoregressive parameters found with `enforce_stationarity` set to True.\n",
      "Non-stationary starting autoregressive parameters found with `enforce_stationarity` set to True.\n",
      "non-invertible starting seasonal moving average parameters found with `enforce_invertibility` set to True.\n",
      "non-invertible starting seasonal moving average parameters found with `enforce_invertibility` set to True.\n",
      "Non-stationary starting autoregressive parameters found with `enforce_stationarity` set to True.\n",
      "Non-stationary starting autoregressive parameters found with `enforce_stationarity` set to True.\n",
      "Non-stationary starting autoregressive parameters found with `enforce_stationarity` set to True.\n",
      "Non-stationary starting autoregressive parameters found with `enforce_stationarity` set to True.\n",
      "Non-stationary starting autoregressive parameters found with `enforce_stationarity` set to True.\n",
      "Non-stationary starting autoregressive parameters found with `enforce_stationarity` set to True.\n",
      "Non-stationary starting autoregressive parameters found with `enforce_stationarity` set to True.\n",
      "Non-stationary starting autoregressive parameters found with `enforce_stationarity` set to True.\n"
     ]
    },
    {
     "name": "stderr",
     "output_type": "stream",
     "text": [
      "/usr/local/lib/python2.7/dist-packages/statsmodels/base/model.py:475: ConvergenceWarning: Maximum Likelihood optimization failed to converge. Check mle_retvals\n",
      "  \"Check mle_retvals\", ConvergenceWarning)\n"
     ]
    },
    {
     "name": "stdout",
     "output_type": "stream",
     "text": [
      "Non-stationary starting autoregressive parameters found with `enforce_stationarity` set to True.\n",
      "Non-stationary starting autoregressive parameters found with `enforce_stationarity` set to True.\n"
     ]
    }
   ],
   "source": [
    "model = auto_arima(direct[:60])"
   ]
  },
  {
   "cell_type": "code",
   "execution_count": 90,
   "metadata": {
    "collapsed": false
   },
   "outputs": [
    {
     "data": {
      "text/html": [
       "<table class=\"simpletable\">\n",
       "<caption>Statespace Model Results</caption>\n",
       "<tr>\n",
       "  <th>Dep. Variable:</th>            <td>ga:sessions</td>          <th>  No. Observations:  </th>    <td>60</td>   \n",
       "</tr>\n",
       "<tr>\n",
       "  <th>Model:</th>           <td>SARIMAX(1, 0, 1)x(2, 0, 2, 7)</td> <th>  Log Likelihood     </th> <td>-665.240</td>\n",
       "</tr>\n",
       "<tr>\n",
       "  <th>Date:</th>                  <td>Thu, 23 Feb 2017</td>        <th>  AIC                </th> <td>1344.480</td>\n",
       "</tr>\n",
       "<tr>\n",
       "  <th>Time:</th>                      <td>14:46:31</td>            <th>  BIC                </th> <td>1359.141</td>\n",
       "</tr>\n",
       "<tr>\n",
       "  <th>Sample:</th>                   <td>12-01-2016</td>           <th>  HQIC               </th> <td>1350.215</td>\n",
       "</tr>\n",
       "<tr>\n",
       "  <th></th>                         <td>- 01-29-2017</td>          <th>                     </th>     <td> </td>   \n",
       "</tr>\n",
       "<tr>\n",
       "  <th>Covariance Type:</th>              <td>opg</td>              <th>                     </th>     <td> </td>   \n",
       "</tr>\n",
       "</table>\n",
       "<table class=\"simpletable\">\n",
       "<tr>\n",
       "      <td></td>        <th>coef</th>     <th>std err</th>      <th>z</th>      <th>P>|z|</th>  <th>[0.025</th>    <th>0.975]</th>  \n",
       "</tr>\n",
       "<tr>\n",
       "  <th>ar.L1</th>    <td>    0.9304</td> <td>    0.178</td> <td>    5.214</td> <td> 0.000</td> <td>    0.581</td> <td>    1.280</td>\n",
       "</tr>\n",
       "<tr>\n",
       "  <th>ma.L1</th>    <td>    0.3779</td> <td>    0.336</td> <td>    1.126</td> <td> 0.260</td> <td>   -0.280</td> <td>    1.036</td>\n",
       "</tr>\n",
       "<tr>\n",
       "  <th>ar.S.L7</th>  <td>    0.4934</td> <td>    4.004</td> <td>    0.123</td> <td> 0.902</td> <td>   -7.354</td> <td>    8.341</td>\n",
       "</tr>\n",
       "<tr>\n",
       "  <th>ar.S.L14</th> <td>    0.4403</td> <td>    3.657</td> <td>    0.120</td> <td> 0.904</td> <td>   -6.727</td> <td>    7.608</td>\n",
       "</tr>\n",
       "<tr>\n",
       "  <th>ma.S.L7</th>  <td>   -0.0745</td> <td>    4.210</td> <td>   -0.018</td> <td> 0.986</td> <td>   -8.325</td> <td>    8.176</td>\n",
       "</tr>\n",
       "<tr>\n",
       "  <th>ma.S.L14</th> <td>   -0.4150</td> <td>    2.134</td> <td>   -0.194</td> <td> 0.846</td> <td>   -4.598</td> <td>    3.768</td>\n",
       "</tr>\n",
       "<tr>\n",
       "  <th>sigma2</th>   <td> 3.849e+08</td> <td> 9.66e-08</td> <td> 3.99e+15</td> <td> 0.000</td> <td> 3.85e+08</td> <td> 3.85e+08</td>\n",
       "</tr>\n",
       "</table>\n",
       "<table class=\"simpletable\">\n",
       "<tr>\n",
       "  <th>Ljung-Box (Q):</th>          <td>42.33</td> <th>  Jarque-Bera (JB):  </th> <td>9.34</td>\n",
       "</tr>\n",
       "<tr>\n",
       "  <th>Prob(Q):</th>                <td>0.37</td>  <th>  Prob(JB):          </th> <td>0.01</td>\n",
       "</tr>\n",
       "<tr>\n",
       "  <th>Heteroskedasticity (H):</th> <td>0.41</td>  <th>  Skew:              </th> <td>0.87</td>\n",
       "</tr>\n",
       "<tr>\n",
       "  <th>Prob(H) (two-sided):</th>    <td>0.06</td>  <th>  Kurtosis:          </th> <td>3.86</td>\n",
       "</tr>\n",
       "</table>"
      ],
      "text/plain": [
       "<class 'statsmodels.iolib.summary.Summary'>\n",
       "\"\"\"\n",
       "                                 Statespace Model Results                                \n",
       "=========================================================================================\n",
       "Dep. Variable:                       ga:sessions   No. Observations:                   60\n",
       "Model:             SARIMAX(1, 0, 1)x(2, 0, 2, 7)   Log Likelihood                -665.240\n",
       "Date:                           Thu, 23 Feb 2017   AIC                           1344.480\n",
       "Time:                                   14:46:31   BIC                           1359.141\n",
       "Sample:                               12-01-2016   HQIC                          1350.215\n",
       "                                    - 01-29-2017                                         \n",
       "Covariance Type:                             opg                                         \n",
       "==============================================================================\n",
       "                 coef    std err          z      P>|z|      [0.025      0.975]\n",
       "------------------------------------------------------------------------------\n",
       "ar.L1          0.9304      0.178      5.214      0.000       0.581       1.280\n",
       "ma.L1          0.3779      0.336      1.126      0.260      -0.280       1.036\n",
       "ar.S.L7        0.4934      4.004      0.123      0.902      -7.354       8.341\n",
       "ar.S.L14       0.4403      3.657      0.120      0.904      -6.727       7.608\n",
       "ma.S.L7       -0.0745      4.210     -0.018      0.986      -8.325       8.176\n",
       "ma.S.L14      -0.4150      2.134     -0.194      0.846      -4.598       3.768\n",
       "sigma2      3.849e+08   9.66e-08   3.99e+15      0.000    3.85e+08    3.85e+08\n",
       "===================================================================================\n",
       "Ljung-Box (Q):                       42.33   Jarque-Bera (JB):                 9.34\n",
       "Prob(Q):                              0.37   Prob(JB):                         0.01\n",
       "Heteroskedasticity (H):               0.41   Skew:                             0.87\n",
       "Prob(H) (two-sided):                  0.06   Kurtosis:                         3.86\n",
       "===================================================================================\n",
       "\n",
       "Warnings:\n",
       "[1] Covariance matrix calculated using the outer product of gradients (complex-step).\n",
       "[2] Covariance matrix is singular or near-singular, with condition number 3.8e+31. Standard errors may be unstable.\n",
       "\"\"\""
      ]
     },
     "execution_count": 90,
     "metadata": {},
     "output_type": "execute_result"
    }
   ],
   "source": [
    "model.summary()"
   ]
  },
  {
   "cell_type": "code",
   "execution_count": 103,
   "metadata": {
    "collapsed": false
   },
   "outputs": [],
   "source": [
    "pred = model.get_prediction(start='2017-01-19', end=81)"
   ]
  },
  {
   "cell_type": "code",
   "execution_count": 113,
   "metadata": {
    "collapsed": false
   },
   "outputs": [
    {
     "data": {
      "text/plain": [
       "82"
      ]
     },
     "execution_count": 113,
     "metadata": {},
     "output_type": "execute_result"
    }
   ],
   "source": []
  },
  {
   "cell_type": "code",
   "execution_count": 104,
   "metadata": {
    "collapsed": false
   },
   "outputs": [
    {
     "data": {
      "text/plain": [
       "2017-01-19    217130.628371\n",
       "2017-01-20    192347.831083\n",
       "2017-01-21    150318.195926\n",
       "2017-01-22    184822.338315\n",
       "2017-01-23    235931.930411\n",
       "2017-01-24    238334.185918\n",
       "2017-01-25    226456.433877\n",
       "2017-01-26    202170.826892\n",
       "2017-01-27    177611.086404\n",
       "2017-01-28    168979.920560\n",
       "2017-01-29    185016.807355\n",
       "2017-01-30    223731.522659\n",
       "2017-01-31    233940.175949\n",
       "2017-02-01    219035.190050\n",
       "2017-02-02    205317.244974\n",
       "2017-02-03    184101.053861\n",
       "2017-02-04    163457.584236\n",
       "2017-02-05    186350.662176\n",
       "2017-02-06    212228.958380\n",
       "2017-02-07    223122.922842\n",
       "2017-02-08    209467.810606\n",
       "2017-02-09    195443.560232\n",
       "2017-02-10    172391.748912\n",
       "2017-02-11    153995.623964\n",
       "2017-02-12    176077.656625\n",
       "2017-02-13    200005.012991\n",
       "2017-02-14    210098.580512\n",
       "2017-02-15    197006.849516\n",
       "2017-02-16    184241.168250\n",
       "2017-02-17    163706.464184\n",
       "2017-02-18    145708.401626\n",
       "2017-02-19    166839.215133\n",
       "2017-02-20    190184.030050\n",
       "Freq: D, dtype: float64"
      ]
     },
     "execution_count": 104,
     "metadata": {},
     "output_type": "execute_result"
    }
   ],
   "source": [
    "pred.predicted_mean"
   ]
  },
  {
   "cell_type": "code",
   "execution_count": 105,
   "metadata": {
    "collapsed": false
   },
   "outputs": [
    {
     "data": {
      "text/plain": [
       "[<matplotlib.lines.Line2D at 0x7fdea59b7d50>]"
      ]
     },
     "execution_count": 105,
     "metadata": {},
     "output_type": "execute_result"
    },
    {
     "data": {
      "image/png": "[encoded data removed]",
      "text/plain": [
       "<matplotlib.figure.Figure at 0x7fdea5d6c4d0>"
      ]
     },
     "metadata": {},
     "output_type": "display_data"
    }
   ],
   "source": [
    "plt.plot(direct)\n",
    "plt.plot(pred.predicted_mean)"
   ]
  },
  {
   "cell_type": "code",
   "execution_count": 135,
   "metadata": {
    "collapsed": false
   },
   "outputs": [
    {
     "data": {
      "text/plain": [
       "[<matplotlib.lines.Line2D at 0x7fdea54319d0>]"
      ]
     },
     "execution_count": 135,
     "metadata": {},
     "output_type": "execute_result"
    },
    {
     "data": {
      "image/png": "[encoded data removed]",
      "text/plain": [
       "<matplotlib.figure.Figure at 0x7fdea5475790>"
      ]
     },
     "metadata": {},
     "output_type": "display_data"
    }
   ],
   "source": [
    "plt.plot(direct[2:10])"
   ]
  },
  {
   "cell_type": "code",
   "execution_count": 111,
   "metadata": {
    "collapsed": false
   },
   "outputs": [
    {
     "data": {
      "text/plain": [
       "624606.190115843"
      ]
     },
     "execution_count": 111,
     "metadata": {},
     "output_type": "execute_result"
    }
   ],
   "source": [
    "rmse(pred.predicted_mean-direct[-33:])"
   ]
  },
  {
   "cell_type": "code",
   "execution_count": 114,
   "metadata": {
    "collapsed": true
   },
   "outputs": [],
   "source": [
    "def test(file):\n",
    "    data = pd.read_csv(file, sep='\\t', parse_dates=[1])\n",
    "\n",
    "    dims = list(set(data['ga:source']))\n",
    "\n",
    "    data = data.groupby(['ga:source', 'ga:date']).sum()\n",
    "    sess = data['ga:sessions']\n",
    "\n",
    "    sum_rmse = 0\n",
    "\n",
    "    for dim in dims:\n",
    "        l = len(sess[dim])\n",
    "        vl = l // 5\n",
    "\n",
    "        model = auto_arima(sess[dim][:l-vl])\n",
    "        pred = model.get_prediction(start='2017-01-19', end=l-1)\n",
    "        resid = pred.predicted_mean - sess[dim][-vl:]\n",
    "\n",
    "        sum_rmse += rmse(resid)\n",
    "\n",
    "    return sum_rmse\n",
    "\n",
    "def test_arima(orders, x):\n",
    "    order = orders[:3]\n",
    "    seasonal_order = orders[3:]\n",
    "    seasonal_order = np.insert(seasonal_order, 3, 7)\n",
    "    try:\n",
    "        fit = sm.tsa.statespace.SARIMAX(x, trend='n', order=order, seasonal_order=seasonal_order).fit()\n",
    "        if math.isnan(rmse(fit.resid)):\n",
    "            return float('inf')\n",
    "        return rmse(fit.resid)\n",
    "    except Exception as err:\n",
    "        print err\n",
    "        return float('inf')\n",
    "\n",
    "def rmse(resid):\n",
    "    rmse = 0\n",
    "    for r in resid:\n",
    "        rmse += math.sqrt(r**2)\n",
    "\n",
    "    return rmse\n",
    "\n",
    "def auto_arima(x):\n",
    "        grid = (slice(0, 3, 1), slice(0, 3, 1), slice(0, 3, 1), slice(0, 3, 1), slice(0, 3, 1), slice(0, 3, 1))\n",
    "        res = brute(test_arima, grid, args=(x,), finish=None)\n",
    "        if any(i != 0 for i in res):\n",
    "            # slice up orders\n",
    "            order = res[:3].astype(int)\n",
    "            seasonal_order = res[3:].astype(int)\n",
    "            # hardcode insert seven period seasonality\n",
    "            # this will need to become more dynamic later when we deal with\n",
    "            # multi day long periods\n",
    "            seasonal_order = np.insert(seasonal_order, 3, 7)\n",
    "            return sm.tsa.statespace.SARIMAX(x.astype(float), trend='n', order=order, seasonal_order=seasonal_order).fit()\n"
   ]
  },
  {
   "cell_type": "code",
   "execution_count": 115,
   "metadata": {
    "collapsed": false
   },
   "outputs": [
    {
     "name": "stdout",
     "output_type": "stream",
     "text": [
      "Number of states in statespace model must be a positive number.\n",
      "Number of states in statespace model must be a positive number.\n",
      "maxlag should be < nobs\n",
      "maxlag should be < nobs\n",
      "could not broadcast input array from shape (0,0) into shape (7,7)\n",
      "maxlag should be < nobs\n",
      "maxlag should be < nobs\n",
      "could not broadcast input array from shape (0,0) into shape (14,14)\n",
      "maxlag should be < nobs\n",
      "maxlag should be < nobs\n",
      "maxlag should be < nobs\n",
      "maxlag should be < nobs\n",
      "maxlag should be < nobs\n",
      "maxlag should be < nobs\n",
      "maxlag should be < nobs\n",
      "maxlag should be < nobs\n",
      "maxlag should be < nobs\n",
      "maxlag should be < nobs\n",
      "maxlag should be < nobs\n",
      "maxlag should be < nobs\n",
      "maxlag should be < nobs\n",
      "maxlag should be < nobs\n",
      "maxlag should be < nobs\n",
      "maxlag should be < nobs\n",
      "maxlag should be < nobs\n",
      "maxlag should be < nobs\n",
      "maxlag should be < nobs\n",
      "maxlag should be < nobs\n",
      "non-invertible starting MA parameters found with `enforce_invertibility` set to True.\n",
      "non-invertible starting MA parameters found with `enforce_invertibility` set to True.\n",
      "non-invertible starting MA parameters found with `enforce_invertibility` set to True.\n",
      "maxlag should be < nobs\n",
      "maxlag should be < nobs\n",
      "maxlag should be < nobs\n",
      "maxlag should be < nobs\n",
      "maxlag should be < nobs\n",
      "maxlag should be < nobs\n",
      "non-invertible starting MA parameters found with `enforce_invertibility` set to True.\n",
      "non-invertible starting MA parameters found with `enforce_invertibility` set to True.\n",
      "non-invertible starting MA parameters found with `enforce_invertibility` set to True.\n",
      "maxlag should be < nobs\n",
      "maxlag should be < nobs\n",
      "maxlag should be < nobs\n",
      "maxlag should be < nobs\n",
      "maxlag should be < nobs\n",
      "maxlag should be < nobs\n",
      "non-invertible starting MA parameters found with `enforce_invertibility` set to True.\n",
      "non-invertible starting MA parameters found with `enforce_invertibility` set to True.\n",
      "non-invertible starting MA parameters found with `enforce_invertibility` set to True.\n",
      "maxlag should be < nobs\n",
      "maxlag should be < nobs\n",
      "maxlag should be < nobs\n",
      "maxlag should be < nobs\n",
      "maxlag should be < nobs\n",
      "maxlag should be < nobs\n",
      "maxlag should be < nobs\n",
      "maxlag should be < nobs\n",
      "maxlag should be < nobs\n",
      "maxlag should be < nobs\n",
      "maxlag should be < nobs\n",
      "maxlag should be < nobs\n",
      "maxlag should be < nobs\n",
      "maxlag should be < nobs\n",
      "maxlag should be < nobs\n",
      "maxlag should be < nobs\n",
      "maxlag should be < nobs\n",
      "maxlag should be < nobs\n",
      "maxlag should be < nobs\n",
      "maxlag should be < nobs\n",
      "maxlag should be < nobs\n",
      "maxlag should be < nobs\n",
      "maxlag should be < nobs\n",
      "maxlag should be < nobs\n",
      "maxlag should be < nobs\n",
      "maxlag should be < nobs\n",
      "maxlag should be < nobs\n",
      "maxlag should be < nobs\n",
      "maxlag should be < nobs\n",
      "maxlag should be < nobs\n",
      "maxlag should be < nobs\n",
      "maxlag should be < nobs\n",
      "maxlag should be < nobs\n",
      "could not broadcast input array from shape (0,0) into shape (1,1)\n",
      "maxlag should be < nobs\n",
      "maxlag should be < nobs\n",
      "could not broadcast input array from shape (0,0) into shape (8,8)\n",
      "maxlag should be < nobs\n",
      "maxlag should be < nobs\n",
      "could not broadcast input array from shape (0,0) into shape (15,15)\n",
      "maxlag should be < nobs\n",
      "maxlag should be < nobs\n",
      "maxlag should be < nobs\n",
      "maxlag should be < nobs\n",
      "maxlag should be < nobs\n",
      "maxlag should be < nobs\n",
      "maxlag should be < nobs\n",
      "maxlag should be < nobs\n",
      "maxlag should be < nobs\n",
      "maxlag should be < nobs\n",
      "maxlag should be < nobs\n",
      "maxlag should be < nobs\n",
      "maxlag should be < nobs\n",
      "maxlag should be < nobs\n",
      "maxlag should be < nobs\n",
      "maxlag should be < nobs\n",
      "maxlag should be < nobs\n",
      "maxlag should be < nobs\n",
      "maxlag should be < nobs\n",
      "maxlag should be < nobs\n",
      "maxlag should be < nobs\n",
      "maxlag should be < nobs\n",
      "maxlag should be < nobs\n",
      "maxlag should be < nobs\n",
      "maxlag should be < nobs\n",
      "maxlag should be < nobs\n",
      "maxlag should be < nobs\n",
      "maxlag should be < nobs\n",
      "maxlag should be < nobs\n",
      "maxlag should be < nobs\n",
      "maxlag should be < nobs\n",
      "maxlag should be < nobs\n",
      "maxlag should be < nobs\n",
      "maxlag should be < nobs\n",
      "maxlag should be < nobs\n",
      "maxlag should be < nobs\n",
      "maxlag should be < nobs\n",
      "maxlag should be < nobs\n",
      "maxlag should be < nobs\n",
      "maxlag should be < nobs\n",
      "maxlag should be < nobs\n",
      "maxlag should be < nobs\n",
      "maxlag should be < nobs\n",
      "maxlag should be < nobs\n",
      "maxlag should be < nobs\n",
      "maxlag should be < nobs\n",
      "maxlag should be < nobs\n",
      "maxlag should be < nobs\n",
      "maxlag should be < nobs\n",
      "maxlag should be < nobs\n",
      "maxlag should be < nobs\n",
      "maxlag should be < nobs\n",
      "maxlag should be < nobs\n",
      "maxlag should be < nobs\n",
      "maxlag should be < nobs\n",
      "maxlag should be < nobs\n",
      "maxlag should be < nobs\n",
      "maxlag should be < nobs\n",
      "maxlag should be < nobs\n",
      "maxlag should be < nobs\n",
      "maxlag should be < nobs\n",
      "maxlag should be < nobs\n",
      "maxlag should be < nobs\n",
      "maxlag should be < nobs\n",
      "maxlag should be < nobs\n",
      "maxlag should be < nobs\n",
      "maxlag should be < nobs\n",
      "maxlag should be < nobs\n",
      "maxlag should be < nobs\n",
      "maxlag should be < nobs\n",
      "maxlag should be < nobs\n",
      "maxlag should be < nobs\n",
      "maxlag should be < nobs\n",
      "maxlag should be < nobs\n",
      "could not broadcast input array from shape (0,0) into shape (2,2)\n",
      "maxlag should be < nobs\n",
      "maxlag should be < nobs\n",
      "could not broadcast input array from shape (0,0) into shape (9,9)\n",
      "maxlag should be < nobs\n",
      "maxlag should be < nobs\n",
      "could not broadcast input array from shape (0,0) into shape (16,16)\n",
      "maxlag should be < nobs\n",
      "maxlag should be < nobs\n",
      "maxlag should be < nobs\n",
      "maxlag should be < nobs\n",
      "maxlag should be < nobs\n",
      "maxlag should be < nobs\n",
      "maxlag should be < nobs\n",
      "maxlag should be < nobs\n",
      "maxlag should be < nobs\n",
      "maxlag should be < nobs\n",
      "maxlag should be < nobs\n",
      "maxlag should be < nobs\n",
      "maxlag should be < nobs\n",
      "maxlag should be < nobs\n",
      "maxlag should be < nobs\n",
      "maxlag should be < nobs\n",
      "maxlag should be < nobs\n",
      "maxlag should be < nobs\n",
      "maxlag should be < nobs\n",
      "maxlag should be < nobs\n",
      "maxlag should be < nobs\n",
      "maxlag should be < nobs\n",
      "maxlag should be < nobs\n",
      "maxlag should be < nobs\n",
      "maxlag should be < nobs\n",
      "maxlag should be < nobs\n",
      "maxlag should be < nobs\n",
      "maxlag should be < nobs\n",
      "maxlag should be < nobs\n",
      "maxlag should be < nobs\n",
      "maxlag should be < nobs\n",
      "maxlag should be < nobs\n",
      "maxlag should be < nobs\n",
      "maxlag should be < nobs\n",
      "maxlag should be < nobs\n",
      "maxlag should be < nobs\n",
      "maxlag should be < nobs\n",
      "maxlag should be < nobs\n",
      "maxlag should be < nobs\n",
      "maxlag should be < nobs\n",
      "maxlag should be < nobs\n",
      "maxlag should be < nobs\n",
      "maxlag should be < nobs\n",
      "maxlag should be < nobs\n",
      "maxlag should be < nobs\n",
      "maxlag should be < nobs\n",
      "maxlag should be < nobs\n",
      "maxlag should be < nobs\n",
      "maxlag should be < nobs\n",
      "maxlag should be < nobs\n",
      "maxlag should be < nobs\n",
      "maxlag should be < nobs\n",
      "maxlag should be < nobs\n",
      "maxlag should be < nobs\n",
      "maxlag should be < nobs\n",
      "maxlag should be < nobs\n",
      "maxlag should be < nobs\n",
      "maxlag should be < nobs\n",
      "maxlag should be < nobs\n",
      "maxlag should be < nobs\n",
      "maxlag should be < nobs\n",
      "maxlag should be < nobs\n",
      "maxlag should be < nobs\n",
      "maxlag should be < nobs\n",
      "maxlag should be < nobs\n",
      "maxlag should be < nobs\n",
      "maxlag should be < nobs\n",
      "maxlag should be < nobs\n",
      "maxlag should be < nobs\n",
      "maxlag should be < nobs\n",
      "maxlag should be < nobs\n",
      "maxlag should be < nobs\n",
      "maxlag should be < nobs\n",
      "maxlag should be < nobs\n",
      "maxlag should be < nobs\n",
      "maxlag should be < nobs\n",
      "maxlag should be < nobs\n",
      "maxlag should be < nobs\n",
      "maxlag should be < nobs\n",
      "maxlag should be < nobs\n",
      "maxlag should be < nobs\n",
      "maxlag should be < nobs\n",
      "maxlag should be < nobs\n",
      "maxlag should be < nobs\n",
      "maxlag should be < nobs\n",
      "maxlag should be < nobs\n",
      "maxlag should be < nobs\n",
      "maxlag should be < nobs\n",
      "maxlag should be < nobs\n",
      "maxlag should be < nobs\n",
      "maxlag should be < nobs\n",
      "maxlag should be < nobs\n",
      "maxlag should be < nobs\n",
      "maxlag should be < nobs\n",
      "maxlag should be < nobs\n",
      "maxlag should be < nobs\n",
      "maxlag should be < nobs\n",
      "maxlag should be < nobs\n",
      "maxlag should be < nobs\n",
      "maxlag should be < nobs\n",
      "maxlag should be < nobs\n",
      "maxlag should be < nobs\n",
      "maxlag should be < nobs\n",
      "maxlag should be < nobs\n",
      "maxlag should be < nobs\n",
      "maxlag should be < nobs\n",
      "maxlag should be < nobs\n",
      "maxlag should be < nobs\n",
      "maxlag should be < nobs\n",
      "maxlag should be < nobs\n",
      "maxlag should be < nobs\n",
      "maxlag should be < nobs\n",
      "maxlag should be < nobs\n",
      "maxlag should be < nobs\n",
      "maxlag should be < nobs\n",
      "maxlag should be < nobs\n",
      "maxlag should be < nobs\n",
      "maxlag should be < nobs\n",
      "maxlag should be < nobs\n",
      "maxlag should be < nobs\n",
      "maxlag should be < nobs\n",
      "maxlag should be < nobs\n",
      "maxlag should be < nobs\n",
      "maxlag should be < nobs\n",
      "maxlag should be < nobs\n",
      "maxlag should be < nobs\n",
      "maxlag should be < nobs\n",
      "maxlag should be < nobs\n",
      "maxlag should be < nobs\n",
      "maxlag should be < nobs\n",
      "maxlag should be < nobs\n",
      "maxlag should be < nobs\n",
      "maxlag should be < nobs\n",
      "maxlag should be < nobs\n",
      "maxlag should be < nobs\n",
      "maxlag should be < nobs\n",
      "maxlag should be < nobs\n",
      "maxlag should be < nobs\n",
      "maxlag should be < nobs\n",
      "maxlag should be < nobs\n",
      "maxlag should be < nobs\n",
      "maxlag should be < nobs\n",
      "maxlag should be < nobs\n",
      "maxlag should be < nobs\n",
      "maxlag should be < nobs\n",
      "maxlag should be < nobs\n",
      "maxlag should be < nobs\n",
      "maxlag should be < nobs\n",
      "maxlag should be < nobs\n",
      "maxlag should be < nobs\n",
      "maxlag should be < nobs\n",
      "maxlag should be < nobs\n",
      "maxlag should be < nobs\n",
      "Non-stationary starting autoregressive parameters found with `enforce_stationarity` set to True.\n",
      "Non-stationary starting autoregressive parameters found with `enforce_stationarity` set to True.\n",
      "Non-stationary starting autoregressive parameters found with `enforce_stationarity` set to True.\n",
      "maxlag should be < nobs\n",
      "maxlag should be < nobs\n",
      "maxlag should be < nobs\n",
      "maxlag should be < nobs\n",
      "maxlag should be < nobs\n",
      "maxlag should be < nobs\n",
      "Non-stationary starting autoregressive parameters found with `enforce_stationarity` set to True.\n",
      "Non-stationary starting autoregressive parameters found with `enforce_stationarity` set to True.\n",
      "Non-stationary starting autoregressive parameters found with `enforce_stationarity` set to True.\n",
      "maxlag should be < nobs\n",
      "maxlag should be < nobs\n",
      "maxlag should be < nobs\n",
      "maxlag should be < nobs\n",
      "maxlag should be < nobs\n",
      "maxlag should be < nobs\n",
      "Non-stationary starting autoregressive parameters found with `enforce_stationarity` set to True.\n",
      "Non-stationary starting autoregressive parameters found with `enforce_stationarity` set to True.\n",
      "Non-stationary starting autoregressive parameters found with `enforce_stationarity` set to True.\n",
      "maxlag should be < nobs\n",
      "maxlag should be < nobs\n",
      "maxlag should be < nobs\n",
      "maxlag should be < nobs\n",
      "maxlag should be < nobs\n",
      "maxlag should be < nobs\n",
      "maxlag should be < nobs\n",
      "maxlag should be < nobs\n",
      "maxlag should be < nobs\n",
      "maxlag should be < nobs\n",
      "maxlag should be < nobs\n",
      "maxlag should be < nobs\n",
      "maxlag should be < nobs\n",
      "maxlag should be < nobs\n",
      "maxlag should be < nobs\n",
      "maxlag should be < nobs\n",
      "maxlag should be < nobs\n",
      "maxlag should be < nobs\n",
      "maxlag should be < nobs\n",
      "maxlag should be < nobs\n",
      "maxlag should be < nobs\n",
      "maxlag should be < nobs\n",
      "maxlag should be < nobs\n",
      "maxlag should be < nobs\n",
      "maxlag should be < nobs\n",
      "maxlag should be < nobs\n",
      "maxlag should be < nobs\n",
      "maxlag should be < nobs\n",
      "maxlag should be < nobs\n",
      "maxlag should be < nobs\n",
      "maxlag should be < nobs\n",
      "maxlag should be < nobs\n",
      "maxlag should be < nobs\n",
      "maxlag should be < nobs\n",
      "maxlag should be < nobs\n",
      "maxlag should be < nobs\n",
      "maxlag should be < nobs\n",
      "maxlag should be < nobs\n",
      "maxlag should be < nobs\n",
      "maxlag should be < nobs\n",
      "maxlag should be < nobs\n",
      "maxlag should be < nobs\n",
      "maxlag should be < nobs\n",
      "maxlag should be < nobs\n",
      "maxlag should be < nobs\n",
      "maxlag should be < nobs\n",
      "maxlag should be < nobs\n",
      "maxlag should be < nobs\n",
      "maxlag should be < nobs\n",
      "maxlag should be < nobs\n",
      "maxlag should be < nobs\n",
      "maxlag should be < nobs\n",
      "maxlag should be < nobs\n",
      "maxlag should be < nobs\n",
      "maxlag should be < nobs\n",
      "maxlag should be < nobs\n",
      "maxlag should be < nobs\n",
      "maxlag should be < nobs\n",
      "maxlag should be < nobs\n",
      "maxlag should be < nobs\n",
      "Non-stationary starting autoregressive parameters found with `enforce_stationarity` set to True.\n",
      "Non-stationary starting autoregressive parameters found with `enforce_stationarity` set to True.\n",
      "Non-stationary starting autoregressive parameters found with `enforce_stationarity` set to True.\n",
      "maxlag should be < nobs\n",
      "maxlag should be < nobs\n",
      "maxlag should be < nobs\n",
      "maxlag should be < nobs\n",
      "maxlag should be < nobs\n",
      "maxlag should be < nobs\n",
      "Non-stationary starting autoregressive parameters found with `enforce_stationarity` set to True.\n",
      "Non-stationary starting autoregressive parameters found with `enforce_stationarity` set to True.\n",
      "Non-stationary starting autoregressive parameters found with `enforce_stationarity` set to True.\n",
      "maxlag should be < nobs\n",
      "maxlag should be < nobs\n",
      "maxlag should be < nobs\n",
      "maxlag should be < nobs\n",
      "maxlag should be < nobs\n",
      "maxlag should be < nobs\n",
      "Non-stationary starting autoregressive parameters found with `enforce_stationarity` set to True.\n",
      "Non-stationary starting autoregressive parameters found with `enforce_stationarity` set to True.\n",
      "Non-stationary starting autoregressive parameters found with `enforce_stationarity` set to True.\n",
      "maxlag should be < nobs\n",
      "maxlag should be < nobs\n",
      "maxlag should be < nobs\n",
      "maxlag should be < nobs\n",
      "maxlag should be < nobs\n",
      "maxlag should be < nobs\n",
      "maxlag should be < nobs\n",
      "maxlag should be < nobs\n",
      "maxlag should be < nobs\n",
      "maxlag should be < nobs\n",
      "maxlag should be < nobs\n",
      "maxlag should be < nobs\n",
      "maxlag should be < nobs\n",
      "maxlag should be < nobs\n",
      "maxlag should be < nobs\n",
      "maxlag should be < nobs\n",
      "maxlag should be < nobs\n",
      "maxlag should be < nobs\n",
      "maxlag should be < nobs\n",
      "maxlag should be < nobs\n",
      "maxlag should be < nobs\n",
      "maxlag should be < nobs\n",
      "maxlag should be < nobs\n",
      "maxlag should be < nobs\n",
      "maxlag should be < nobs\n",
      "maxlag should be < nobs\n",
      "maxlag should be < nobs\n",
      "maxlag should be < nobs\n",
      "maxlag should be < nobs\n",
      "maxlag should be < nobs\n",
      "maxlag should be < nobs\n",
      "maxlag should be < nobs\n",
      "maxlag should be < nobs\n",
      "maxlag should be < nobs\n",
      "maxlag should be < nobs\n",
      "maxlag should be < nobs\n",
      "maxlag should be < nobs\n",
      "maxlag should be < nobs\n",
      "maxlag should be < nobs\n",
      "maxlag should be < nobs\n",
      "maxlag should be < nobs\n",
      "maxlag should be < nobs\n",
      "maxlag should be < nobs\n",
      "maxlag should be < nobs\n",
      "maxlag should be < nobs\n",
      "maxlag should be < nobs\n",
      "maxlag should be < nobs\n",
      "maxlag should be < nobs\n",
      "maxlag should be < nobs\n",
      "maxlag should be < nobs\n",
      "maxlag should be < nobs\n",
      "maxlag should be < nobs\n",
      "maxlag should be < nobs\n",
      "maxlag should be < nobs\n",
      "maxlag should be < nobs\n",
      "maxlag should be < nobs\n",
      "maxlag should be < nobs\n",
      "maxlag should be < nobs\n",
      "maxlag should be < nobs\n",
      "maxlag should be < nobs\n",
      "Non-stationary starting autoregressive parameters found with `enforce_stationarity` set to True.\n",
      "Non-stationary starting autoregressive parameters found with `enforce_stationarity` set to True.\n",
      "Non-stationary starting autoregressive parameters found with `enforce_stationarity` set to True.\n",
      "maxlag should be < nobs\n",
      "maxlag should be < nobs\n",
      "maxlag should be < nobs\n",
      "maxlag should be < nobs\n",
      "maxlag should be < nobs\n",
      "maxlag should be < nobs\n",
      "Non-stationary starting autoregressive parameters found with `enforce_stationarity` set to True.\n",
      "Non-stationary starting autoregressive parameters found with `enforce_stationarity` set to True.\n",
      "Non-stationary starting autoregressive parameters found with `enforce_stationarity` set to True.\n",
      "maxlag should be < nobs\n",
      "maxlag should be < nobs\n",
      "maxlag should be < nobs\n",
      "maxlag should be < nobs\n",
      "maxlag should be < nobs\n",
      "maxlag should be < nobs\n",
      "Non-stationary starting autoregressive parameters found with `enforce_stationarity` set to True.\n",
      "Non-stationary starting autoregressive parameters found with `enforce_stationarity` set to True.\n",
      "Non-stationary starting autoregressive parameters found with `enforce_stationarity` set to True.\n",
      "maxlag should be < nobs\n",
      "maxlag should be < nobs\n",
      "maxlag should be < nobs\n",
      "maxlag should be < nobs\n",
      "maxlag should be < nobs\n",
      "maxlag should be < nobs\n",
      "maxlag should be < nobs\n",
      "maxlag should be < nobs\n",
      "maxlag should be < nobs\n",
      "maxlag should be < nobs\n",
      "maxlag should be < nobs\n",
      "maxlag should be < nobs\n",
      "maxlag should be < nobs\n",
      "maxlag should be < nobs\n",
      "maxlag should be < nobs\n",
      "maxlag should be < nobs\n",
      "maxlag should be < nobs\n",
      "maxlag should be < nobs\n",
      "maxlag should be < nobs\n",
      "maxlag should be < nobs\n",
      "maxlag should be < nobs\n",
      "maxlag should be < nobs\n",
      "maxlag should be < nobs\n",
      "maxlag should be < nobs\n",
      "maxlag should be < nobs\n",
      "maxlag should be < nobs\n",
      "maxlag should be < nobs\n",
      "maxlag should be < nobs\n",
      "maxlag should be < nobs\n",
      "maxlag should be < nobs\n",
      "maxlag should be < nobs\n",
      "maxlag should be < nobs\n",
      "maxlag should be < nobs\n",
      "maxlag should be < nobs\n",
      "maxlag should be < nobs\n",
      "maxlag should be < nobs\n",
      "maxlag should be < nobs\n",
      "maxlag should be < nobs\n",
      "maxlag should be < nobs\n",
      "maxlag should be < nobs\n",
      "maxlag should be < nobs\n",
      "maxlag should be < nobs\n",
      "maxlag should be < nobs\n",
      "maxlag should be < nobs\n",
      "maxlag should be < nobs\n",
      "maxlag should be < nobs\n",
      "maxlag should be < nobs\n",
      "maxlag should be < nobs\n",
      "maxlag should be < nobs\n",
      "maxlag should be < nobs\n",
      "maxlag should be < nobs\n",
      "maxlag should be < nobs\n",
      "maxlag should be < nobs\n",
      "maxlag should be < nobs\n",
      "maxlag should be < nobs\n",
      "maxlag should be < nobs\n",
      "maxlag should be < nobs\n",
      "maxlag should be < nobs\n",
      "maxlag should be < nobs\n",
      "maxlag should be < nobs\n",
      "maxlag should be < nobs\n",
      "maxlag should be < nobs\n",
      "maxlag should be < nobs\n",
      "maxlag should be < nobs\n",
      "maxlag should be < nobs\n",
      "maxlag should be < nobs\n",
      "maxlag should be < nobs\n",
      "maxlag should be < nobs\n",
      "maxlag should be < nobs\n",
      "maxlag should be < nobs\n",
      "maxlag should be < nobs\n",
      "maxlag should be < nobs\n",
      "maxlag should be < nobs\n",
      "maxlag should be < nobs\n",
      "maxlag should be < nobs\n",
      "maxlag should be < nobs\n",
      "maxlag should be < nobs\n",
      "maxlag should be < nobs\n",
      "maxlag should be < nobs\n",
      "maxlag should be < nobs\n",
      "maxlag should be < nobs\n",
      "maxlag should be < nobs\n",
      "maxlag should be < nobs\n",
      "maxlag should be < nobs\n",
      "maxlag should be < nobs\n",
      "maxlag should be < nobs\n",
      "maxlag should be < nobs\n",
      "maxlag should be < nobs\n",
      "maxlag should be < nobs\n",
      "maxlag should be < nobs\n",
      "maxlag should be < nobs\n",
      "maxlag should be < nobs\n",
      "maxlag should be < nobs\n",
      "maxlag should be < nobs\n",
      "maxlag should be < nobs\n",
      "maxlag should be < nobs\n",
      "maxlag should be < nobs\n",
      "maxlag should be < nobs\n",
      "maxlag should be < nobs\n",
      "maxlag should be < nobs\n",
      "maxlag should be < nobs\n",
      "maxlag should be < nobs\n",
      "maxlag should be < nobs\n",
      "maxlag should be < nobs\n",
      "maxlag should be < nobs\n",
      "maxlag should be < nobs\n",
      "maxlag should be < nobs\n",
      "maxlag should be < nobs\n",
      "maxlag should be < nobs\n",
      "maxlag should be < nobs\n",
      "maxlag should be < nobs\n",
      "maxlag should be < nobs\n",
      "maxlag should be < nobs\n",
      "maxlag should be < nobs\n",
      "maxlag should be < nobs\n",
      "maxlag should be < nobs\n",
      "maxlag should be < nobs\n",
      "maxlag should be < nobs\n",
      "maxlag should be < nobs\n",
      "maxlag should be < nobs\n",
      "maxlag should be < nobs\n",
      "maxlag should be < nobs\n",
      "maxlag should be < nobs\n",
      "maxlag should be < nobs\n",
      "maxlag should be < nobs\n",
      "maxlag should be < nobs\n",
      "maxlag should be < nobs\n",
      "maxlag should be < nobs\n",
      "maxlag should be < nobs\n",
      "maxlag should be < nobs\n",
      "maxlag should be < nobs\n",
      "maxlag should be < nobs\n",
      "maxlag should be < nobs\n",
      "maxlag should be < nobs\n",
      "maxlag should be < nobs\n",
      "maxlag should be < nobs\n",
      "maxlag should be < nobs\n",
      "maxlag should be < nobs\n",
      "maxlag should be < nobs\n",
      "maxlag should be < nobs\n",
      "maxlag should be < nobs\n",
      "maxlag should be < nobs\n",
      "maxlag should be < nobs\n",
      "maxlag should be < nobs\n",
      "maxlag should be < nobs\n",
      "maxlag should be < nobs\n",
      "maxlag should be < nobs\n",
      "maxlag should be < nobs\n",
      "maxlag should be < nobs\n",
      "maxlag should be < nobs\n",
      "maxlag should be < nobs\n",
      "maxlag should be < nobs\n",
      "maxlag should be < nobs\n",
      "maxlag should be < nobs\n",
      "maxlag should be < nobs\n",
      "maxlag should be < nobs\n",
      "maxlag should be < nobs\n",
      "maxlag should be < nobs\n",
      "maxlag should be < nobs\n",
      "maxlag should be < nobs\n",
      "maxlag should be < nobs\n",
      "maxlag should be < nobs\n",
      "maxlag should be < nobs\n",
      "maxlag should be < nobs\n",
      "maxlag should be < nobs\n",
      "maxlag should be < nobs\n",
      "maxlag should be < nobs\n",
      "maxlag should be < nobs\n",
      "maxlag should be < nobs\n",
      "maxlag should be < nobs\n",
      "maxlag should be < nobs\n",
      "maxlag should be < nobs\n",
      "maxlag should be < nobs\n",
      "maxlag should be < nobs\n",
      "maxlag should be < nobs\n",
      "maxlag should be < nobs\n",
      "maxlag should be < nobs\n",
      "maxlag should be < nobs\n",
      "maxlag should be < nobs\n",
      "maxlag should be < nobs\n",
      "maxlag should be < nobs\n",
      "maxlag should be < nobs\n",
      "maxlag should be < nobs\n",
      "maxlag should be < nobs\n",
      "maxlag should be < nobs\n",
      "maxlag should be < nobs\n",
      "maxlag should be < nobs\n",
      "maxlag should be < nobs\n",
      "maxlag should be < nobs\n",
      "maxlag should be < nobs\n",
      "maxlag should be < nobs\n",
      "maxlag should be < nobs\n",
      "maxlag should be < nobs\n",
      "maxlag should be < nobs\n",
      "maxlag should be < nobs\n",
      "maxlag should be < nobs\n",
      "maxlag should be < nobs\n",
      "maxlag should be < nobs\n",
      "maxlag should be < nobs\n",
      "maxlag should be < nobs\n",
      "maxlag should be < nobs\n",
      "maxlag should be < nobs\n",
      "maxlag should be < nobs\n",
      "maxlag should be < nobs\n",
      "maxlag should be < nobs\n",
      "maxlag should be < nobs\n",
      "maxlag should be < nobs\n",
      "maxlag should be < nobs\n",
      "maxlag should be < nobs\n",
      "maxlag should be < nobs\n",
      "maxlag should be < nobs\n",
      "maxlag should be < nobs\n",
      "maxlag should be < nobs\n",
      "maxlag should be < nobs\n",
      "maxlag should be < nobs\n",
      "maxlag should be < nobs\n",
      "maxlag should be < nobs\n",
      "maxlag should be < nobs\n",
      "maxlag should be < nobs\n",
      "maxlag should be < nobs\n"
     ]
    },
    {
     "ename": "ValueError",
     "evalue": "Start must be in dates. Got 2017-01-19 | 2017-01-19 00:00:00",
     "output_type": "error",
     "traceback": [
      "\u001b[0;31m---------------------------------------------------------------------------\u001b[0m",
      "\u001b[0;31mValueError\u001b[0m                                Traceback (most recent call last)",
      "\u001b[0;32m<ipython-input-115-e73d21717500>\u001b[0m in \u001b[0;36m<module>\u001b[0;34m()\u001b[0m\n\u001b[0;32m----> 1\u001b[0;31m \u001b[0mtest\u001b[0m\u001b[0;34m(\u001b[0m\u001b[0;34m'./sessionsbysource.tsv'\u001b[0m\u001b[0;34m)\u001b[0m\u001b[0;34m\u001b[0m\u001b[0m\n\u001b[0m",
      "\u001b[0;32m<ipython-input-114-d324a06d4a9d>\u001b[0m in \u001b[0;36mtest\u001b[0;34m(file)\u001b[0m\n\u001b[1;32m     14\u001b[0m \u001b[0;34m\u001b[0m\u001b[0m\n\u001b[1;32m     15\u001b[0m         \u001b[0mmodel\u001b[0m \u001b[0;34m=\u001b[0m \u001b[0mauto_arima\u001b[0m\u001b[0;34m(\u001b[0m\u001b[0msess\u001b[0m\u001b[0;34m[\u001b[0m\u001b[0mdim\u001b[0m\u001b[0;34m]\u001b[0m\u001b[0;34m[\u001b[0m\u001b[0;34m:\u001b[0m\u001b[0ml\u001b[0m\u001b[0;34m-\u001b[0m\u001b[0mvl\u001b[0m\u001b[0;34m]\u001b[0m\u001b[0;34m)\u001b[0m\u001b[0;34m\u001b[0m\u001b[0m\n\u001b[0;32m---> 16\u001b[0;31m         \u001b[0mpred\u001b[0m \u001b[0;34m=\u001b[0m \u001b[0mmodel\u001b[0m\u001b[0;34m.\u001b[0m\u001b[0mget_prediction\u001b[0m\u001b[0;34m(\u001b[0m\u001b[0mstart\u001b[0m\u001b[0;34m=\u001b[0m\u001b[0;34m'2017-01-19'\u001b[0m\u001b[0;34m,\u001b[0m \u001b[0mend\u001b[0m\u001b[0;34m=\u001b[0m\u001b[0ml\u001b[0m\u001b[0;34m-\u001b[0m\u001b[0;36m1\u001b[0m\u001b[0;34m)\u001b[0m\u001b[0;34m\u001b[0m\u001b[0m\n\u001b[0m\u001b[1;32m     17\u001b[0m         \u001b[0mresid\u001b[0m \u001b[0;34m=\u001b[0m \u001b[0mpred\u001b[0m\u001b[0;34m.\u001b[0m\u001b[0mpredicted_mean\u001b[0m \u001b[0;34m-\u001b[0m \u001b[0msess\u001b[0m\u001b[0;34m[\u001b[0m\u001b[0mdim\u001b[0m\u001b[0;34m]\u001b[0m\u001b[0;34m[\u001b[0m\u001b[0;34m-\u001b[0m\u001b[0mvl\u001b[0m\u001b[0;34m:\u001b[0m\u001b[0;34m]\u001b[0m\u001b[0;34m\u001b[0m\u001b[0m\n\u001b[1;32m     18\u001b[0m \u001b[0;34m\u001b[0m\u001b[0m\n",
      "\u001b[0;32m/usr/local/lib/python2.7/dist-packages/statsmodels/tsa/statespace/mlemodel.pyc\u001b[0m in \u001b[0;36mget_prediction\u001b[0;34m(self, start, end, dynamic, **kwargs)\u001b[0m\n\u001b[1;32m   2257\u001b[0m \u001b[0;34m\u001b[0m\u001b[0m\n\u001b[1;32m   2258\u001b[0m         \u001b[0;31m# Handle start and end (e.g. dates)\u001b[0m\u001b[0;34m\u001b[0m\u001b[0;34m\u001b[0m\u001b[0m\n\u001b[0;32m-> 2259\u001b[0;31m         \u001b[0mstart\u001b[0m \u001b[0;34m=\u001b[0m \u001b[0mself\u001b[0m\u001b[0;34m.\u001b[0m\u001b[0mmodel\u001b[0m\u001b[0;34m.\u001b[0m\u001b[0m_get_predict_start\u001b[0m\u001b[0;34m(\u001b[0m\u001b[0mstart\u001b[0m\u001b[0;34m)\u001b[0m\u001b[0;34m\u001b[0m\u001b[0m\n\u001b[0m\u001b[1;32m   2260\u001b[0m         \u001b[0mend\u001b[0m\u001b[0;34m,\u001b[0m \u001b[0mout_of_sample\u001b[0m \u001b[0;34m=\u001b[0m \u001b[0mself\u001b[0m\u001b[0;34m.\u001b[0m\u001b[0mmodel\u001b[0m\u001b[0;34m.\u001b[0m\u001b[0m_get_predict_end\u001b[0m\u001b[0;34m(\u001b[0m\u001b[0mend\u001b[0m\u001b[0;34m)\u001b[0m\u001b[0;34m\u001b[0m\u001b[0m\n\u001b[1;32m   2261\u001b[0m \u001b[0;34m\u001b[0m\u001b[0m\n",
      "\u001b[0;32m/usr/local/lib/python2.7/dist-packages/statsmodels/tsa/base/tsa_model.pyc\u001b[0m in \u001b[0;36m_get_predict_start\u001b[0;34m(self, start)\u001b[0m\n\u001b[1;32m    130\u001b[0m             \u001b[0;32mexcept\u001b[0m \u001b[0mKeyError\u001b[0m\u001b[0;34m:\u001b[0m\u001b[0;34m\u001b[0m\u001b[0m\n\u001b[1;32m    131\u001b[0m                 raise ValueError(\"Start must be in dates. Got %s | %s\" %\n\u001b[0;32m--> 132\u001b[0;31m                         (str(start), str(dtstart)))\n\u001b[0m\u001b[1;32m    133\u001b[0m \u001b[0;34m\u001b[0m\u001b[0m\n\u001b[1;32m    134\u001b[0m         \u001b[0mself\u001b[0m\u001b[0;34m.\u001b[0m\u001b[0m_set_predict_start_date\u001b[0m\u001b[0;34m(\u001b[0m\u001b[0mstart\u001b[0m\u001b[0;34m)\u001b[0m\u001b[0;34m\u001b[0m\u001b[0m\n",
      "\u001b[0;31mValueError\u001b[0m: Start must be in dates. Got 2017-01-19 | 2017-01-19 00:00:00"
     ]
    }
   ],
   "source": [
    "test('./sessionsbysource.tsv')"
   ]
  },
  {
   "cell_type": "code",
   "execution_count": null,
   "metadata": {
    "collapsed": true
   },
   "outputs": [],
   "source": []
  }
 ],
 "metadata": {
  "kernelspec": {
   "display_name": "Python 2",
   "language": "python",
   "name": "python2"
  },
  "language_info": {
   "codemirror_mode": {
    "name": "ipython",
    "version": 2
   },
   "file_extension": ".py",
   "mimetype": "text/x-python",
   "name": "python",
   "nbconvert_exporter": "python",
   "pygments_lexer": "ipython2",
   "version": "2.7.12"
  }
 },
 "nbformat": 4,
 "nbformat_minor": 2
}
